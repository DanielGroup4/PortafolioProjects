{
 "cells": [
  {
   "cell_type": "markdown",
   "metadata": {},
   "source": [
    "**importing libraries**\n",
    "\n",
    "importando librerias"
   ]
  },
  {
   "cell_type": "code",
   "execution_count": 19,
   "metadata": {},
   "outputs": [],
   "source": [
    "from bs4 import BeautifulSoup\n",
    "import requests\n",
    "import time\n",
    "import datetime\n",
    "from lxml import html\n",
    "\n",
    "import smtplib\n"
   ]
  },
  {
   "cell_type": "code",
   "execution_count": 21,
   "metadata": {},
   "outputs": [
    {
     "name": "stdout",
     "output_type": "stream",
     "text": [
      "\n",
      "            Samsung Galaxy Buds Live Negro\n",
      "           \n",
      "$2,104.48$2,104.48\n"
     ]
    }
   ],
   "source": [
    "# connect to website\n",
    "# conectar a sitio web de amazon\n",
    "\n",
    "# Url semilla\n",
    "URL = 'https://www.amazon.com.mx/Samsung-Galaxy-Buds-Live-Negro/dp/B08KRBBWQ4/ref=sr_1_4?__mk_es_MX=%C3%85M%C3%85%C5%BD%C3%95%C3%91&keywords=audifonos+samsung+buds&qid=1638329260&sr=8-4'\n",
    "\n",
    "# USER AGENT para proteger de baneos\n",
    "headers = {\"User-Agent\": \"Mozilla/5.0 (Windows NT 10.0; Win64; x64) AppleWebKit/537.36 (KHTML, like Gecko) Chrome/78.0.3904.108 Safari/537.36\", \"Accept-Encoding\": \"gzip, deflate\", \"Accept\": \"text/html,application/xhtml+xml,application/xml;q=0.9,*/*;q=0.8\", \"DNT\": \"1\", \"Connection\": \"close\", \"Upgrade-Insecure-Requests\": \"1\"}\n",
    "\n",
    "# REQUERIMIENTO AL SERVIDOR\n",
    "page = requests.get(URL, headers=headers) \n",
    "\n",
    "# Creando la instancia con BeautifulSoup para conseguir el texto del Producto\n",
    "soup1 = BeautifulSoup(page.content, 'html.parser')\n",
    "soup2 = BeautifulSoup(soup1.prettify(), \"html.parser\")\n",
    "title = soup2.find(id='productTitle').get_text()\n",
    "\n",
    "print(title)\n",
    "\n",
    "parser = html.fromstring(page.text)\n",
    "#parser.xpath(\"//span[contains(@class, ='a-price a-text-price a-size-medium apexPriceToPay']/span/[@class ='a-offscreen\")\n",
    "\n",
    "find_price = parser.find_class('a-price a-text-price a-size-medium apexPriceToPay')\n",
    "for p in find_price:\n",
    "    price = p.text_content()\n",
    "#price = soup2.find(id=\"priceblock_ourprice\").get_text()\n",
    "\n",
    "print(price)\n"
   ]
  },
  {
   "cell_type": "code",
   "execution_count": null,
   "metadata": {},
   "outputs": [],
   "source": []
  }
 ],
 "metadata": {
  "interpreter": {
   "hash": "a014cb58a96c793e510c6b79c0f6e44345ae078bb457dd5a0ccab5bab3f0694b"
  },
  "kernelspec": {
   "display_name": "Python 3.9.4 64-bit",
   "language": "python",
   "name": "python3"
  },
  "language_info": {
   "codemirror_mode": {
    "name": "ipython",
    "version": 3
   },
   "file_extension": ".py",
   "mimetype": "text/x-python",
   "name": "python",
   "nbconvert_exporter": "python",
   "pygments_lexer": "ipython3",
   "version": "3.9.4"
  },
  "orig_nbformat": 4
 },
 "nbformat": 4,
 "nbformat_minor": 2
}
