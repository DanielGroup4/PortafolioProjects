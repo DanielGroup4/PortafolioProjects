{
 "cells": [
  {
   "cell_type": "markdown",
   "metadata": {},
   "source": [
    "# Web Scraping and automating the sending of information by e-mail.\n",
    "\n",
    "# Web Scraping y automatizando el envio de informacion por e-mail."
   ]
  },
  {
   "cell_type": "markdown",
   "metadata": {},
   "source": [
    "### importing libraries\n",
    "\n",
    "### importando librerias"
   ]
  },
  {
   "cell_type": "code",
   "execution_count": 1,
   "metadata": {},
   "outputs": [],
   "source": [
    "from bs4 import BeautifulSoup\n",
    "import requests\n",
    "import time\n",
    "import datetime\n",
    "from lxml import html\n",
    "\n",
    "import smtplib\n"
   ]
  },
  {
   "cell_type": "markdown",
   "metadata": {},
   "source": [
    "### Find product names and prices**\n",
    "\n",
    "### Encontrar nombre de producto y su precio"
   ]
  },
  {
   "cell_type": "code",
   "execution_count": 28,
   "metadata": {},
   "outputs": [
    {
     "name": "stdout",
     "output_type": "stream",
     "text": [
      "\n",
      "            SAMSUNG Buds Pro Black\n",
      "           \n",
      "\n",
      "                                     4,498\n",
      "                                     \n",
      "                                      .\n",
      "                                     \n",
      "\n"
     ]
    }
   ],
   "source": [
    "# connect to website\n",
    "# conectar a sitio web de amazon\n",
    "\n",
    "# Url semilla\n",
    "URL = 'https://www.amazon.com.mx/SAMSUNG-SM-R190NZKAMXO-Buds-Pro-Black/dp/B09FJJMX65/ref=sr_1_3?__mk_es_MX=%C3%85M%C3%85%C5%BD%C3%95%C3%91&keywords=audifonos%2Bsamsung%2Bbuds&qid=1638931642&sr=8-3&ufe=app_do%3Aamzn1.fos.d6a47de5-06cb-4416-9abc-48deac71c815'\n",
    "\n",
    "# USER AGENT para proteger de baneos\n",
    "headers = {\"User-Agent\": \"Mozilla/5.0 (Windows NT 10.0; Win64; x64) AppleWebKit/537.36 (KHTML, like Gecko) Chrome/78.0.3904.108 Safari/537.36\", \"Accept-Encoding\": \"gzip, deflate\", \"Accept\": \"text/html,application/xhtml+xml,application/xml;q=0.9,*/*;q=0.8\", \"DNT\": \"1\", \"Connection\": \"close\", \"Upgrade-Insecure-Requests\": \"1\"}\n",
    "\n",
    "# REQUERIMIENTO AL SERVIDOR\n",
    "page = requests.get(URL, headers=headers) \n",
    "\n",
    "# Creando la instancia con BeautifulSoup para conseguir el texto del Producto\n",
    "soup1 = BeautifulSoup(page.content, 'html.parser')\n",
    "soup2 = BeautifulSoup(soup1.prettify(), \"html.parser\")\n",
    "product_name = soup2.find(id='productTitle').get_text()\n",
    "\n",
    "price_container = soup2.find(id = 'tp-tool-tip-price-block')\n",
    "price = price_container.find('span',class_ ='a-price-whole').get_text()\n",
    "\n",
    "print(product_name)\n",
    "print(price)\n"
   ]
  },
  {
   "cell_type": "code",
   "execution_count": 74,
   "metadata": {},
   "outputs": [
    {
     "name": "stdout",
     "output_type": "stream",
     "text": [
      "SAMSUNG Buds Pro Black\n",
      "4498\n"
     ]
    }
   ],
   "source": [
    "product_name = product_name.strip()\n",
    "price = price.strip()[:5].replace(',', '')\n",
    "\n",
    "print(product_name)\n",
    "print(price)"
   ]
  },
  {
   "cell_type": "code",
   "execution_count": 46,
   "metadata": {},
   "outputs": [
    {
     "name": "stdout",
     "output_type": "stream",
     "text": [
      "<class 'str'>\n",
      "<class 'str'>\n"
     ]
    }
   ],
   "source": [
    "print(type(product_name))\n",
    "print(type(price))"
   ]
  },
  {
   "cell_type": "markdown",
   "metadata": {},
   "source": [
    "### Creating a timestamp for data output and track when data was collected\n",
    "\n",
    "### Creando un Timestamp para la salida de los datos para rastrear cuándo se recogieron los datos"
   ]
  },
  {
   "cell_type": "code",
   "execution_count": 70,
   "metadata": {},
   "outputs": [
    {
     "name": "stdout",
     "output_type": "stream",
     "text": [
      "2021-12-07\n"
     ]
    }
   ],
   "source": [
    "import datetime\n",
    "\n",
    "today = datetime.date.today()\n",
    "print(today)\n"
   ]
  },
  {
   "cell_type": "markdown",
   "metadata": {},
   "source": [
    "### Create CSV file and write headers and data into the file\n",
    "\n",
    "### Crear un archivo CSV y escribir las cabeceras y los datos en el archivo"
   ]
  },
  {
   "cell_type": "code",
   "execution_count": 50,
   "metadata": {},
   "outputs": [],
   "source": [
    "import csv\n",
    "\n",
    "header = ['Product_name', 'Price', 'Date']\n",
    "data = [product_name, price, today]\n",
    "\n",
    "with open('AmazonWebScraperDataset.csv', 'w', newline= '', encoding= 'UTF8') as f:\n",
    "    writer = csv.writer(f)\n",
    "    writer.writerow(header)\n",
    "    writer.writerow(data)"
   ]
  },
  {
   "cell_type": "code",
   "execution_count": 60,
   "metadata": {},
   "outputs": [
    {
     "name": "stdout",
     "output_type": "stream",
     "text": [
      "             Product_name  Price        Date\n",
      "0  SAMSUNG Buds Pro Black  4,498  2021-12-07\n",
      "1  SAMSUNG Buds Pro Black  4,498  2021-12-07\n",
      "2  SAMSUNG Buds Pro Black  4,498  2021-12-07\n",
      "3  SAMSUNG Buds Pro Black  4,498  2021-12-07\n",
      "4  SAMSUNG Buds Pro Black  4,498  2021-12-07\n"
     ]
    }
   ],
   "source": [
    "import pandas as pd\n",
    "\n",
    "df = pd.read_csv('AmazonWebScraperDataset.csv')\n",
    "print(df)"
   ]
  },
  {
   "cell_type": "markdown",
   "metadata": {},
   "source": [
    "### Now appending data to the csv\n",
    "\n",
    "### Ahora añadiendo datos al csv"
   ]
  },
  {
   "cell_type": "code",
   "execution_count": 58,
   "metadata": {},
   "outputs": [],
   "source": [
    "with open('AmazonWebScraperDataset.csv', 'a+', newline='', encoding='UTF8') as f:\n",
    "    writer = csv.writer(f)\n",
    "    writer.writerow(data)\n",
    "\n"
   ]
  },
  {
   "cell_type": "markdown",
   "metadata": {},
   "source": [
    "### Combine all of the above code into one function\n",
    "\n",
    "### Combinar todo el código anterior en una función"
   ]
  },
  {
   "cell_type": "code",
   "execution_count": 62,
   "metadata": {},
   "outputs": [],
   "source": [
    "def checkPrice():\n",
    "    \n",
    "    # Url semilla\n",
    "    URL = 'https://www.amazon.com.mx/SAMSUNG-SM-R190NZKAMXO-Buds-Pro-Black/dp/B09FJJMX65/ref=sr_1_3?__mk_es_MX=%C3%85M%C3%85%C5%BD%C3%95%C3%91&keywords=audifonos%2Bsamsung%2Bbuds&qid=1638931642&sr=8-3&ufe=app_do%3Aamzn1.fos.d6a47de5-06cb-4416-9abc-48deac71c815'\n",
    "\n",
    "    # USER AGENT para proteger de baneos\n",
    "    headers = {\"User-Agent\": \"Mozilla/5.0 (Windows NT 10.0; Win64; x64) AppleWebKit/537.36 (KHTML, like Gecko) Chrome/78.0.3904.108 Safari/537.36\", \"Accept-Encoding\": \"gzip, deflate\",\"Accept\": \"text/html,application/xhtml+xml,application/xml;q=0.9,*/*;q=0.8\", \"DNT\": \"1\", \"Connection\": \"close\", \"Upgrade-Insecure-Requests\": \"1\"}\n",
    "\n",
    "    # REQUERIMIENTO AL SERVIDOR\n",
    "    page = requests.get(URL, headers=headers)\n",
    "\n",
    "    # Creando la instancia con BeautifulSoup para conseguir el texto del Producto\n",
    "    soup1 = BeautifulSoup(page.content, 'html.parser')\n",
    "    soup2 = BeautifulSoup(soup1.prettify(), \"html.parser\")\n",
    "    product_name = soup2.find(id='productTitle').get_text()\n",
    "\n",
    "    price_container = soup2.find(id='tp-tool-tip-price-block')\n",
    "    price = price_container.find('span', class_='a-price-whole').get_text()\n",
    "\n",
    "    #print(product_name)\n",
    "    #print(price)\n",
    "\n",
    "    product_name = product_name.strip()\n",
    "    price = price.strip()[:5].replace(',', '')\n",
    "    \n",
    "    import datetime\n",
    "    today = datetime.date.today()\n",
    "    \n",
    "    import csv\n",
    "    header = ['Product_name', 'Price', 'Date']\n",
    "    data = [product_name, price, today]\n",
    "    \n",
    "    with open('AmazonWebScraperDataset.csv', 'a+', newline='', encoding='UTF8') as f:\n",
    "        writer = csv.writer(f)\n",
    "        writer.writerow(data)\n",
    "    \n",
    "    # to automatically send an email when the price is below a certain amount.\n",
    "    # para cuando el precio se encuentre bajo cierta cantidad, enviar un email automaticamente a traves de una función\n",
    "    if price < 3500:\n",
    "        sendMail()\n",
    "        \n"
   ]
  },
  {
   "cell_type": "markdown",
   "metadata": {},
   "source": [
    "### Runs checkPrice after a specified time and enters the data in the CSV file\n",
    "\n",
    "### Ejecutar checkPrice después de un tiempo determinado e introduce los datos en el archivo CSV"
   ]
  },
  {
   "cell_type": "code",
   "execution_count": null,
   "metadata": {},
   "outputs": [],
   "source": [
    "while(True):\n",
    "    checkPrice()\n",
    "    time.sleep(86400) # ejecutar cada numero de segundos (1 dia)\n"
   ]
  },
  {
   "cell_type": "code",
   "execution_count": 64,
   "metadata": {},
   "outputs": [
    {
     "name": "stdout",
     "output_type": "stream",
     "text": [
      "             Product_name  Price        Date\n",
      "0  SAMSUNG Buds Pro Black  4,498  2021-12-07\n",
      "1  SAMSUNG Buds Pro Black  4,498  2021-12-07\n",
      "2  SAMSUNG Buds Pro Black  4,498  2021-12-07\n",
      "3  SAMSUNG Buds Pro Black  4,498  2021-12-07\n",
      "4  SAMSUNG Buds Pro Black  4,498  2021-12-07\n",
      "5  SAMSUNG Buds Pro Black  4,498  2021-12-07\n",
      "6  SAMSUNG Buds Pro Black  4,498  2021-12-07\n",
      "7  SAMSUNG Buds Pro Black  4,498  2021-12-07\n"
     ]
    }
   ],
   "source": [
    "import pandas as pd\n",
    "\n",
    "df = pd.read_csv('AmazonWebScraperDataset.csv')\n",
    "print(df)\n"
   ]
  },
  {
   "cell_type": "markdown",
   "metadata": {},
   "source": [
    "### send me an email when a price falls below a certain amount\n",
    "\n",
    "### enviarme un correo electrónico cuando un precio llegue a estar por debajo de una determinada cantidad"
   ]
  },
  {
   "cell_type": "code",
   "execution_count": 75,
   "metadata": {},
   "outputs": [],
   "source": [
    "def sendMail():\n",
    "    server = smtplib.SMTP_SSL('smtp.gmail.com', 465)\n",
    "    server.ehlo()\n",
    "    \n",
    "    #server.starttls()\n",
    "    server.ehlo()\n",
    "    server.login('daniel_331gb@gmail.com', 'password')\n",
    "\n",
    "    subject = \"los audifonons galaxy buds pro ahora estan por debajo de  $3,500 pesos!\"\n",
    "    body = \"Daniel este es el momento de comprarlos, compralos ahora antes de que vuelvan a subbir de precio, da clic en el link: https: // www.amazon.com.mx/SAMSUNG-SM-R190NZKAMXO-Buds-Pro-Black/dp/B09FJJMX65/ref = sr_1_3?__mk_es_MX = %C3 % 85M % C3 % 85 % C5 % BD % C3 % 95 % C3 % 91 & keywords = audifonos % 2Bsamsung % 2Bbuds & qid = 1638931642 & sr = 8-3 & ufe = app_do % 3Aamzn1.fos.d6a47de5-06cb-4416-9abc-48deac71c815\"\n",
    "    msg = f\"Subject: {subject}\\n\\n{body}\"\n",
    "\n",
    "    server.sendmail(\n",
    "        'daniel_331gb@gmail.com',\n",
    "        msg\n",
    "    )\n"
   ]
  }
 ],
 "metadata": {
  "interpreter": {
   "hash": "a014cb58a96c793e510c6b79c0f6e44345ae078bb457dd5a0ccab5bab3f0694b"
  },
  "kernelspec": {
   "display_name": "Python 3.9.4 64-bit",
   "language": "python",
   "name": "python3"
  },
  "language_info": {
   "codemirror_mode": {
    "name": "ipython",
    "version": 3
   },
   "file_extension": ".py",
   "mimetype": "text/x-python",
   "name": "python",
   "nbconvert_exporter": "python",
   "pygments_lexer": "ipython3",
   "version": "3.9.4"
  },
  "orig_nbformat": 4
 },
 "nbformat": 4,
 "nbformat_minor": 2
}
