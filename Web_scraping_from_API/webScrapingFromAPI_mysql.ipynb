{
 "cells": [
  {
   "cell_type": "markdown",
   "metadata": {},
   "source": [
    "# Pulling data from an API"
   ]
  },
  {
   "cell_type": "markdown",
   "metadata": {},
   "source": [
    "**Importing libraries**\n",
    "\n",
    "Importando librerias"
   ]
  },
  {
   "cell_type": "code",
   "execution_count": 1,
   "metadata": {},
   "outputs": [],
   "source": [
    "import requests\n",
    "import pandas as pd \n",
    "from datetime import datetime\n"
   ]
  },
  {
   "cell_type": "markdown",
   "metadata": {},
   "source": [
    "**Extract data from the Autolist website**\n",
    "\n",
    "Extraer datos de la pagina web de Autolist"
   ]
  },
  {
   "cell_type": "code",
   "execution_count": 2,
   "metadata": {},
   "outputs": [],
   "source": [
    "# User Agent by celaya city\n",
    "# User Agent para la ciudad de celaya\n",
    "headers = {\n",
    "    'authority': 'www.autolist.com',\n",
    "    'sec-ch-ua': '^\\\\^Chromium^\\\\^;v=^\\\\^94^\\\\^, ^\\\\^Google',\n",
    "    'accept': '*/*',\n",
    "    'x-requested-with': 'XMLHttpRequest',\n",
    "    'sec-ch-ua-mobile': '?0',\n",
    "    'x-autolist-session-guid': 'c9fb9ffb-2c06-4468-a3d0-c26290c6994f',\n",
    "    'user-agent': 'Mozilla/5.0 (Windows NT 10.0; Win64; x64) AppleWebKit/537.36 (KHTML, like Gecko) Chrome/94.0.4590.0 Safari/537.36',\n",
    "    'sec-ch-ua-platform': '^\\\\^Windows^\\\\^',\n",
    "    'sec-fetch-site': 'same-origin',\n",
    "    'sec-fetch-mode': 'cors',\n",
    "    'sec-fetch-dest': 'empty',\n",
    "    'referer': 'https://www.autolist.com/listings',\n",
    "    'accept-language': 'en-US,en;q=0.9',\n",
    "    'cookie': 'ec=eyJlZGdlVXNlckFnZW50IjoiTW96aWxsYS81LjAgKFdpbmRvd3MgTlQgMTAuMDsgV2luNjQ7IHg2NCkgQXBwbGVXZWJLaXQvNTM3LjM2IChLSFRNTCwgbGlrZSBHZWNrbykgQ2hyb21lLzk0LjAuNDU5MC4wIFNhZmFyaS81MzcuMzYifQ==; client_guid_timestamp=1602952f-d1bf-4936-82e3-cbdedfa11d2d.1627825394925; scavenger-a493=i2edJn8U8quG2BtrlZCXcua4KB62fcJRrAhaI/t9eYZNJczdHQYj3P0Y4s6myhEl4IbJl8vp9L0oN+SXDh2fFcTvJ/vA/hPyRJ0ohE6LnQGIee5ACCL3nGqW5xFg3QnijfTypiJhVgTfPjk3c81AtkxzR54e+BHqQL0DI6/oWNd7iIkgvHaWjuilZuITytvFV0IAUJ0bX041NuAIFpx8K90bzfPLeAKgkwc0lpwB3cLwm8NcNKMD3xELdjI6leANl5jZJ9KzZ3K+5J7nCpxnAynFJJt2e95bby70BTVZ0qdWtSWGgwFxEdjmesrF42H7EgAjt4LMIKDuRVtbhVwu/q/wUhPoUZvZb6F+CbFpxMXuZTpd27JmWUrboqGTfyS3Nr7gV1kl6hr+8w0aOlmo8NlrdmNRb0u51Ex4zu4JTymiAUsWvS9JhNr/uvk4GVvM3kafDQeKq7v+xHkB/lCvPkqLEifYP7VVan6h5ZmvaQTgULjs0N5JhUd76Pt6c/tY5R0v8R67gjgbvW8n/4Gqzw==; _sp_ses.8ca5=*; _gid=GA1.2.96049973.1627825395; _fbp=fb.1.1627825395573.409117512; __gads=ID=c459f8bf6d0987dd:T=1627825394:S=ALNI_MaW1epD3HNJsvJQTCnPWSJCcOdE_w; AMP_TOKEN=^%^24NOT_FOUND; sp-nuid=e4461948-a1a2-45a1-88f8-45c2889d9576; _gcl_au=1.1.519751617.1627825557; _ga_152345333=GS1.1.1627825395.1.1.1627828426.0; _ga=GA1.2.2118379867.1627825395; cto_bundle=WV1etl8zMUc1cGt6WnZNSEZMYWhwNnJjUXpTYzQxVzZ6QzM5VE1tWXZFcjQ3ZWhrNTlETG1CemlUdmNFYUtIbXdCQTNFelJmY3h6QXA0SlVIZml0WVg2OWQxZlBPMmRqbExXNU9XZTM0V0VaR09tbHBvJTJGdERCb21zZUVKJTJCTG1vVzlDV0w2VjA0bDklMkJnRjdrMmZPUExmJTJGY0l6USUzRCUzRA; _gat=1; _sp_id.8ca5=d3d3f60d-371c-4289-92fe-1c6f66b4979f.1627825395.1.1627828912.1627825395.8bc1e545-8ca1-448e-b1ba-ec8d2c359ada',\n",
    "    'if-none-match': 'W/^\\\\^c6f72fa4ef059e03ea0309ebd57c197d^\\\\^',\n",
    "}\n",
    "\n",
    "# Url Seed\n",
    "# Url Semilla \n",
    "url = \"https://www.autolist.com/api/cwv/seo/listings?make=Volkswagen&location=Celaya,%20Gto.&latitude=20.5135374&longitude=-100.8160686&radius=50&page=1\"\n",
    "\n",
    "# # request to the server\n",
    "# requerimiento al servidor\n",
    "response = requests.get(url, headers=headers)\n"
   ]
  },
  {
   "cell_type": "code",
   "execution_count": 3,
   "metadata": {},
   "outputs": [
    {
     "data": {
      "text/plain": [
       "<Response [200]>"
      ]
     },
     "execution_count": 3,
     "metadata": {},
     "output_type": "execute_result"
    }
   ],
   "source": [
    "# Check status of response\n",
    "# Checkar status de response\n",
    "response"
   ]
  },
  {
   "cell_type": "code",
   "execution_count": 4,
   "metadata": {},
   "outputs": [],
   "source": [
    "# Create Json Object\n",
    "# Crear un objeto json\n",
    "\n",
    "results_json = response.json()\n",
    "#results_json"
   ]
  },
  {
   "cell_type": "code",
   "execution_count": 5,
   "metadata": {},
   "outputs": [
    {
     "data": {
      "text/plain": [
       "dict"
      ]
     },
     "execution_count": 5,
     "metadata": {},
     "output_type": "execute_result"
    }
   ],
   "source": [
    "type(results_json)"
   ]
  },
  {
   "cell_type": "code",
   "execution_count": 6,
   "metadata": {},
   "outputs": [
    {
     "data": {
      "text/plain": [
       "dict_keys(['total_results_count', 'make_model_name', 'trims', 'ad_info', 'search_results', 'html'])"
      ]
     },
     "execution_count": 6,
     "metadata": {},
     "output_type": "execute_result"
    }
   ],
   "source": [
    "# Output Keys\n",
    "# claves o keys de salida\n",
    "results_json.keys()"
   ]
  },
  {
   "cell_type": "markdown",
   "metadata": {},
   "source": [
    "**Find the Data**\n",
    "\n",
    "Encontrando los datos \n",
    "\n",
    "* model (modelo)\n",
    "* mileage (kilometraje)\n",
    "* year (año)\n",
    "* dealer_name (nombre de distribuidor)\n",
    "* price (precio)"
   ]
  },
  {
   "cell_type": "code",
   "execution_count": 7,
   "metadata": {},
   "outputs": [
    {
     "data": {
      "text/plain": [
       "list"
      ]
     },
     "execution_count": 7,
     "metadata": {},
     "output_type": "execute_result"
    }
   ],
   "source": [
    "# checking 'search_results' data type\n",
    "# revisando tipo de datos de 'search_results' \n",
    "type(results_json['search_results']) "
   ]
  },
  {
   "cell_type": "code",
   "execution_count": 5,
   "metadata": {},
   "outputs": [],
   "source": [
    "# checking that the list contains the necessary information\n",
    "# revisando que la lista contenga los datos necesarios\n",
    "results_json['search_results'] "
   ]
  },
  {
   "cell_type": "code",
   "execution_count": 9,
   "metadata": {},
   "outputs": [
    {
     "data": {
      "text/plain": [
       "20"
      ]
     },
     "execution_count": 9,
     "metadata": {},
     "output_type": "execute_result"
    }
   ],
   "source": [
    "# checking the number of items in the list\n",
    "# revisando el numero de elementos en la lista\n",
    "len(results_json['search_results'])"
   ]
  },
  {
   "cell_type": "code",
   "execution_count": 10,
   "metadata": {},
   "outputs": [],
   "source": [
    "result_items = results_json['search_results']"
   ]
  },
  {
   "cell_type": "code",
   "execution_count": 11,
   "metadata": {
    "scrolled": true
   },
   "outputs": [
    {
     "data": {
      "text/plain": [
       "{'available_nationwide': False,\n",
       " 'created_at': 1637991251,\n",
       " 'recent_price_drop': False,\n",
       " 'is_hot': False,\n",
       " 'href_target': '/listings/3VWL17AJ9GM377232',\n",
       " 'vdp_url': '/volkswagen-jetta#vin=3VWL17AJ9GM377232',\n",
       " 'clickoff_url': 'https://www.carmax.com/car/21392875?adcode=ALST&utm_campaign=LG_OC&utm_source=LG_OC_ALST&utm_medium=OC&utm_content=carpage ',\n",
       " 'accepts_leads': True,\n",
       " 'open_in_new_window': False,\n",
       " 'id': 232289104,\n",
       " 'primary_photo_url': 'https://img2.carmax.com/img/vehicles/21392875/1.jpg?width=1024&watermark=LYCG_1a',\n",
       " 'thumbnail_url_large': 'https://images.autolist.com/image/fetch/s--TwVAt6Qh--/c_fill,f_auto,q_auto,w_320/https://img2.carmax.com/img/vehicles/21392875/1.jpg%3Fwidth%3D1024%26watermark%3DLYCG_1a',\n",
       " 'lat': 42.950406,\n",
       " 'lon': -71.43934,\n",
       " 'year': 2016,\n",
       " 'make': 'Volkswagen',\n",
       " 'model': 'Jetta',\n",
       " 'model_id': 1667,\n",
       " 'display_color': '',\n",
       " 'price': '$17,998',\n",
       " 'price_unformatted': 17998,\n",
       " 'mileage': '78,083 Miles',\n",
       " 'mileage_unformatted': 78083,\n",
       " 'city': 'Manchester',\n",
       " 'state': 'NH',\n",
       " 'distance_from_origin': 2298,\n",
       " 'dealer_name': 'CarMax Manchester - Now Offering Curbside Pickup',\n",
       " 'show_message_box': None,\n",
       " 'email_opt_default': True,\n",
       " 'show_financing_checkbox': None,\n",
       " 'show_new_mileage': False,\n",
       " 'show_thankyou_page': False,\n",
       " 'show_rsrp': True,\n",
       " 'click_off': False,\n",
       " 'pre_check_thankyou': True,\n",
       " 'cpl_value': 15,\n",
       " 'partner_type': 'dealer_direct',\n",
       " 'vin': '3VWL17AJ9GM377232',\n",
       " 'provider': None,\n",
       " 'provider_name': 'carmax',\n",
       " 'always_ask_for_zip': True,\n",
       " 'listing_id': None,\n",
       " 'time_on_market': None,\n",
       " 'total_price_change': None,\n",
       " 'relative_price_difference': None,\n",
       " 'listimate_category': None,\n",
       " 'listimate_text': None,\n",
       " 'photo_urls': [],\n",
       " 'tracking_params': {'id_from_provider': '3VWL17AJ9GM377232',\n",
       "  'remote_dealer_id': '6107',\n",
       "  'dealer_name': 'CarMax Manchester',\n",
       "  'remote_sku': '21392875',\n",
       "  'experience': 'national_backfill',\n",
       "  'rooftop_unique_name': None,\n",
       "  'rooftop_uuid': None,\n",
       "  'dealer_unique_name': 'carmax_manchester',\n",
       "  'dealer_uuid': '444119ef-aa31-4ca0-acc8-51e931c4e929',\n",
       "  'dealer_group_unique_name': 'carmax',\n",
       "  'dealer_group_uuid': 'f6138600-f21e-4c20-90b8-308961c3e520'},\n",
       " 'trim': '1.8T SEL PZEV',\n",
       " 'provider_id': 146,\n",
       " 'provider_group_id': 149,\n",
       " 'experience': 'local_if_nearby',\n",
       " 'regional': True,\n",
       " 'badges': {'position0': None, 'position1': None},\n",
       " 'quick_picks_eligible': False}"
      ]
     },
     "execution_count": 11,
     "metadata": {},
     "output_type": "execute_result"
    }
   ],
   "source": [
    "# starting point for the first item in the list (dictionary)\n",
    "# punto de partida para el primer elemento de la lista (diccionario)\n",
    "results_json['search_results'][0]"
   ]
  },
  {
   "cell_type": "code",
   "execution_count": 12,
   "metadata": {},
   "outputs": [
    {
     "data": {
      "text/plain": [
       "'Jetta'"
      ]
     },
     "execution_count": 12,
     "metadata": {},
     "output_type": "execute_result"
    }
   ],
   "source": [
    "# found model data\n",
    "# encontrado dato del modelo \n",
    "results_json['search_results'][0]['model']\n"
   ]
  },
  {
   "cell_type": "code",
   "execution_count": 13,
   "metadata": {},
   "outputs": [
    {
     "data": {
      "text/plain": [
       "'78,083 Miles'"
      ]
     },
     "execution_count": 13,
     "metadata": {},
     "output_type": "execute_result"
    }
   ],
   "source": [
    "# Finding mileage data\n",
    "# encontrando dato de Kilometraje\n",
    "results_json['search_results'][0]['mileage']\n"
   ]
  },
  {
   "cell_type": "code",
   "execution_count": 14,
   "metadata": {},
   "outputs": [
    {
     "data": {
      "text/plain": [
       "2016"
      ]
     },
     "execution_count": 14,
     "metadata": {},
     "output_type": "execute_result"
    }
   ],
   "source": [
    "# finding year data\n",
    "# encontrando dato del año\n",
    "results_json['search_results'][0]['year']\n"
   ]
  },
  {
   "cell_type": "code",
   "execution_count": 15,
   "metadata": {},
   "outputs": [
    {
     "data": {
      "text/plain": [
       "'CarMax Manchester - Now Offering Curbside Pickup'"
      ]
     },
     "execution_count": 15,
     "metadata": {},
     "output_type": "execute_result"
    }
   ],
   "source": [
    "# finding distributor name data\n",
    "# encontrando dato del nombre de distribuidor\n",
    "results_json['search_results'][0]['dealer_name']"
   ]
  },
  {
   "cell_type": "code",
   "execution_count": 16,
   "metadata": {},
   "outputs": [
    {
     "data": {
      "text/plain": [
       "'$17,998'"
      ]
     },
     "execution_count": 16,
     "metadata": {},
     "output_type": "execute_result"
    }
   ],
   "source": [
    "# finding data price\n",
    "# encontrando datos del precio (dolares)\n",
    "results_json['search_results'][0]['price']"
   ]
  },
  {
   "cell_type": "markdown",
   "metadata": {},
   "source": [
    "## Set Paths of Files (Establecer las rutas de los archivos)"
   ]
  },
  {
   "cell_type": "code",
   "execution_count": 17,
   "metadata": {},
   "outputs": [],
   "source": [
    "# file used to store all extracted data\n",
    "# archivo utilizado para almacenar todos los datos extraídos\n",
    "tmpfile = \"data_extracted_temp.tmp\"\n",
    "\n",
    "# all event logs will be stored in this file\n",
    "# todos los registros de eventos serán almacenados en este archivo\n",
    "logfile = \"dealership_logfile.txt\"\n",
    "\n",
    "# file where transformed data is stored\n",
    "# archivo donde se almacenan los datos transformados\n",
    "targetfile = \"dealership_transformed_data.csv\"\n"
   ]
  },
  {
   "cell_type": "markdown",
   "metadata": {},
   "source": [
    "## Extract"
   ]
  },
  {
   "cell_type": "code",
   "execution_count": 18,
   "metadata": {},
   "outputs": [],
   "source": [
    "# creating a function\n",
    "# creando una función\n",
    "def extract():\n",
    "    \n",
    "    # create empty lists\n",
    "    # crear listas vacias\n",
    "    modelo = []\n",
    "    kilometraje = []\n",
    "    año = []\n",
    "    nom_distribuidor = []\n",
    "    precio = []\n",
    "\n",
    "    for result in result_items:\n",
    "        \n",
    "        # model (modelo)\n",
    "        modelo.append(result['model'])\n",
    "        \n",
    "        # mileage (kilometraje)\n",
    "        kilometraje.append(result['mileage'])\n",
    "        \n",
    "        # year (año)\n",
    "        año.append(result['year']) \n",
    "        \n",
    "        # dealer name (nombre de distribuidor)\n",
    "        nom_distribuidor.append(result['dealer_name']) \n",
    "        \n",
    "        # price (precio)\n",
    "        precio.append(result['price'])\n",
    "\n",
    "        # create an empty dataframe to hold extracted data\n",
    "        # crear un dataframe vacío para contener los datos extraídos\n",
    "        extracted_data = pd.DataFrame({'Modelo': modelo, 'Kilometraje': kilometraje,\n",
    "                                    'Año': año, 'Nombre del distribuidor': nom_distribuidor, 'Precio': precio})\n",
    "\n",
    "    return extracted_data\n"
   ]
  },
  {
   "cell_type": "code",
   "execution_count": 19,
   "metadata": {},
   "outputs": [
    {
     "data": {
      "text/html": [
       "<div>\n",
       "<style scoped>\n",
       "    .dataframe tbody tr th:only-of-type {\n",
       "        vertical-align: middle;\n",
       "    }\n",
       "\n",
       "    .dataframe tbody tr th {\n",
       "        vertical-align: top;\n",
       "    }\n",
       "\n",
       "    .dataframe thead th {\n",
       "        text-align: right;\n",
       "    }\n",
       "</style>\n",
       "<table border=\"1\" class=\"dataframe\">\n",
       "  <thead>\n",
       "    <tr style=\"text-align: right;\">\n",
       "      <th></th>\n",
       "      <th>Modelo</th>\n",
       "      <th>Kilometraje</th>\n",
       "      <th>Año</th>\n",
       "      <th>Nombre del distribuidor</th>\n",
       "      <th>Precio</th>\n",
       "    </tr>\n",
       "  </thead>\n",
       "  <tbody>\n",
       "    <tr>\n",
       "      <th>0</th>\n",
       "      <td>Jetta</td>\n",
       "      <td>78,083 Miles</td>\n",
       "      <td>2016</td>\n",
       "      <td>CarMax Manchester - Now Offering Curbside Pickup</td>\n",
       "      <td>$17,998</td>\n",
       "    </tr>\n",
       "    <tr>\n",
       "      <th>1</th>\n",
       "      <td>Jetta</td>\n",
       "      <td>18,272 Miles</td>\n",
       "      <td>2017</td>\n",
       "      <td>CarMax Glencoe (Edens Expy) - Now Offering Cur...</td>\n",
       "      <td>$22,998</td>\n",
       "    </tr>\n",
       "    <tr>\n",
       "      <th>2</th>\n",
       "      <td>Passat</td>\n",
       "      <td>77,951 Miles</td>\n",
       "      <td>2017</td>\n",
       "      <td>CarMax Naples - Now Offering Curbside Pickup A...</td>\n",
       "      <td>$16,998</td>\n",
       "    </tr>\n",
       "    <tr>\n",
       "      <th>3</th>\n",
       "      <td>Tiguan</td>\n",
       "      <td>29,397 Miles</td>\n",
       "      <td>2018</td>\n",
       "      <td>CarMax McKinney - Now Offering Curbside Pickup...</td>\n",
       "      <td>$22,998</td>\n",
       "    </tr>\n",
       "    <tr>\n",
       "      <th>4</th>\n",
       "      <td>Beetle</td>\n",
       "      <td>51,537 Miles</td>\n",
       "      <td>2013</td>\n",
       "      <td>CarMax El Paso - Now Offering Curbside Pickup</td>\n",
       "      <td>$20,998</td>\n",
       "    </tr>\n",
       "  </tbody>\n",
       "</table>\n",
       "</div>"
      ],
      "text/plain": [
       "   Modelo   Kilometraje   Año  \\\n",
       "0   Jetta  78,083 Miles  2016   \n",
       "1   Jetta  18,272 Miles  2017   \n",
       "2  Passat  77,951 Miles  2017   \n",
       "3  Tiguan  29,397 Miles  2018   \n",
       "4  Beetle  51,537 Miles  2013   \n",
       "\n",
       "                             Nombre del distribuidor   Precio  \n",
       "0   CarMax Manchester - Now Offering Curbside Pickup  $17,998  \n",
       "1  CarMax Glencoe (Edens Expy) - Now Offering Cur...  $22,998  \n",
       "2  CarMax Naples - Now Offering Curbside Pickup A...  $16,998  \n",
       "3  CarMax McKinney - Now Offering Curbside Pickup...  $22,998  \n",
       "4      CarMax El Paso - Now Offering Curbside Pickup  $20,998  "
      ]
     },
     "execution_count": 19,
     "metadata": {},
     "output_type": "execute_result"
    }
   ],
   "source": [
    "extracted_data = extract()\n",
    "extracted_data.head()"
   ]
  },
  {
   "cell_type": "code",
   "execution_count": 20,
   "metadata": {},
   "outputs": [
    {
     "data": {
      "text/plain": [
       "'78,083'"
      ]
     },
     "execution_count": 20,
     "metadata": {},
     "output_type": "execute_result"
    }
   ],
   "source": [
    "extracted_data['Kilometraje'][0].strip(' Miles')"
   ]
  },
  {
   "cell_type": "code",
   "execution_count": 21,
   "metadata": {},
   "outputs": [
    {
     "data": {
      "text/plain": [
       "'78083'"
      ]
     },
     "execution_count": 21,
     "metadata": {},
     "output_type": "execute_result"
    }
   ],
   "source": [
    "extracted_data['Kilometraje'][0].strip(' Miles').replace(',', '')\n"
   ]
  },
  {
   "cell_type": "code",
   "execution_count": 22,
   "metadata": {},
   "outputs": [
    {
     "data": {
      "text/plain": [
       "'CarMax Manchester '"
      ]
     },
     "execution_count": 22,
     "metadata": {},
     "output_type": "execute_result"
    }
   ],
   "source": [
    "extracted_data['Nombre del distribuidor'][0].split('-')[0]"
   ]
  },
  {
   "cell_type": "markdown",
   "metadata": {},
   "source": [
    "## Transfrom "
   ]
  },
  {
   "cell_type": "markdown",
   "metadata": {},
   "source": [
    "**Transform data from string to int ,miles to kilometers and split column Distributor name to Distributor and bidding**\n",
    "\n",
    "Transformar datos de string a int ,millas en kilometros y dividir columna Nombre del distribuidor en Distribuidor y ofertando"
   ]
  },
  {
   "cell_type": "code",
   "execution_count": 23,
   "metadata": {},
   "outputs": [],
   "source": [
    "def transform(data):\n",
    "    # convert miles to kilometers\n",
    "    # convervir millas a kilometros\n",
    "    without_miles = lambda x : x.strip(' Miles').replace(',', '')\n",
    "    data['Kilometraje'] = data['Kilometraje'].apply(without_miles)\n",
    "    data['Kilometraje'] = data['Kilometraje'].apply(lambda km: float(km) * 1.609)\n",
    "    \n",
    "    # split column 'Distributor name\n",
    "    # dividir columna 'Nombre de distribuidor'\n",
    "    data['Ubicación de Distribuior'] = data['Nombre del distribuidor'].apply( lambda col: col.split('-')[0])\n",
    "    data['Oferta de Distribuidor'] = data['Nombre del distribuidor'].apply( lambda col: col.split('-')[1])\n",
    "    data.drop(['Nombre del distribuidor'], axis=1, inplace = True)\n",
    "    return data\n"
   ]
  },
  {
   "cell_type": "code",
   "execution_count": 24,
   "metadata": {},
   "outputs": [
    {
     "data": {
      "text/html": [
       "<div>\n",
       "<style scoped>\n",
       "    .dataframe tbody tr th:only-of-type {\n",
       "        vertical-align: middle;\n",
       "    }\n",
       "\n",
       "    .dataframe tbody tr th {\n",
       "        vertical-align: top;\n",
       "    }\n",
       "\n",
       "    .dataframe thead th {\n",
       "        text-align: right;\n",
       "    }\n",
       "</style>\n",
       "<table border=\"1\" class=\"dataframe\">\n",
       "  <thead>\n",
       "    <tr style=\"text-align: right;\">\n",
       "      <th></th>\n",
       "      <th>Modelo</th>\n",
       "      <th>Kilometraje</th>\n",
       "      <th>Año</th>\n",
       "      <th>Precio</th>\n",
       "      <th>Ubicación de Distribuior</th>\n",
       "      <th>Oferta de Distribuidor</th>\n",
       "    </tr>\n",
       "  </thead>\n",
       "  <tbody>\n",
       "    <tr>\n",
       "      <th>0</th>\n",
       "      <td>Jetta</td>\n",
       "      <td>125635.547</td>\n",
       "      <td>2016</td>\n",
       "      <td>$17,998</td>\n",
       "      <td>CarMax Manchester</td>\n",
       "      <td>Now Offering Curbside Pickup</td>\n",
       "    </tr>\n",
       "    <tr>\n",
       "      <th>1</th>\n",
       "      <td>Jetta</td>\n",
       "      <td>29399.648</td>\n",
       "      <td>2017</td>\n",
       "      <td>$22,998</td>\n",
       "      <td>CarMax Glencoe (Edens Expy)</td>\n",
       "      <td>Now Offering Curbside Pickup</td>\n",
       "    </tr>\n",
       "    <tr>\n",
       "      <th>2</th>\n",
       "      <td>Passat</td>\n",
       "      <td>125423.159</td>\n",
       "      <td>2017</td>\n",
       "      <td>$16,998</td>\n",
       "      <td>CarMax Naples</td>\n",
       "      <td>Now Offering Curbside Pickup And Home Delivery</td>\n",
       "    </tr>\n",
       "    <tr>\n",
       "      <th>3</th>\n",
       "      <td>Tiguan</td>\n",
       "      <td>47299.773</td>\n",
       "      <td>2018</td>\n",
       "      <td>$22,998</td>\n",
       "      <td>CarMax McKinney</td>\n",
       "      <td>Now Offering Curbside Pickup And Home Delivery</td>\n",
       "    </tr>\n",
       "    <tr>\n",
       "      <th>4</th>\n",
       "      <td>Beetle</td>\n",
       "      <td>82923.033</td>\n",
       "      <td>2013</td>\n",
       "      <td>$20,998</td>\n",
       "      <td>CarMax El Paso</td>\n",
       "      <td>Now Offering Curbside Pickup</td>\n",
       "    </tr>\n",
       "  </tbody>\n",
       "</table>\n",
       "</div>"
      ],
      "text/plain": [
       "   Modelo  Kilometraje   Año   Precio      Ubicación de Distribuior  \\\n",
       "0   Jetta   125635.547  2016  $17,998            CarMax Manchester    \n",
       "1   Jetta    29399.648  2017  $22,998  CarMax Glencoe (Edens Expy)    \n",
       "2  Passat   125423.159  2017  $16,998                CarMax Naples    \n",
       "3  Tiguan    47299.773  2018  $22,998              CarMax McKinney    \n",
       "4  Beetle    82923.033  2013  $20,998               CarMax El Paso    \n",
       "\n",
       "                            Oferta de Distribuidor  \n",
       "0                     Now Offering Curbside Pickup  \n",
       "1                     Now Offering Curbside Pickup  \n",
       "2   Now Offering Curbside Pickup And Home Delivery  \n",
       "3   Now Offering Curbside Pickup And Home Delivery  \n",
       "4                     Now Offering Curbside Pickup  "
      ]
     },
     "execution_count": 24,
     "metadata": {},
     "output_type": "execute_result"
    }
   ],
   "source": [
    "transform_data = transform(extracted_data)\n",
    "transform_data.head()"
   ]
  },
  {
   "cell_type": "markdown",
   "metadata": {},
   "source": [
    "## Loading"
   ]
  },
  {
   "cell_type": "code",
   "execution_count": 25,
   "metadata": {},
   "outputs": [],
   "source": [
    "def load(targetfile, data_to_load):\n",
    "    data_to_load.to_csv(targetfile)"
   ]
  },
  {
   "cell_type": "markdown",
   "metadata": {},
   "source": [
    "## Logging"
   ]
  },
  {
   "cell_type": "code",
   "execution_count": 26,
   "metadata": {},
   "outputs": [],
   "source": [
    "# change the name of the logfile to the one specified in the set paths section.\n",
    "# change the timestamp order to Hour-Minute-Second-Monthname-Day-Year.\n",
    "# cambiar el nombre del archivo de registro al especificado en la sección de rutas\n",
    "# Cambiar el orden del timestamp a Hora-Minuto-Segundo-Nombre-Día-Año.)\n",
    "def log(message):\n",
    "    ## Hour-Minute-Second-MonthName-Day-Year\n",
    "    # (Hora-Minuto-Segundo-NombreDeMes-Día-Año)\n",
    "    timestamp_format = '%H:%M:%S-%h-%d-%Y'\n",
    "\n",
    "    ## get current timestamp\n",
    "    # (obtener el timestamp actual)\n",
    "    now = datetime.now()\n",
    "\n",
    "    timestamp = now.strftime(timestamp_format)\n",
    "\n",
    "# se crea un nuevo archivo dealership_logifile que almacena el timestamp y el message\n",
    "    with open(\"dealership_logfile.txt\", \"a\") as f:\n",
    "        f.write(timestamp + ',' + message + '\\n')"
   ]
  },
  {
   "cell_type": "markdown",
   "metadata": {},
   "source": [
    "## Running ETL Process (Corriendo Proceso ETL)"
   ]
  },
  {
   "cell_type": "markdown",
   "metadata": {},
   "source": [
    "**Log that you have started the ETL process**\n",
    "\n",
    "Registrar que ha iniciado el proceso ETL"
   ]
  },
  {
   "cell_type": "code",
   "execution_count": 27,
   "metadata": {},
   "outputs": [],
   "source": [
    "log(\"ETL Process Job Started, Inicio de Proceso ETL\") # parameter message\n",
    "\n",
    "# call the extract function\n",
    "# llamar a la función de extracción\n",
    "extracted_data = extract()\n",
    "\n",
    "# Log that you have completed the Extract phase\n",
    "# Registrar que ha completado la fase de Extracción\n",
    "log(\"Extract phase Ended, fase de extraccion finalizada\") # parameter message"
   ]
  },
  {
   "cell_type": "markdown",
   "metadata": {},
   "source": [
    "**checking the extraction phase**\n",
    "\n",
    "comprobando la fase de extracción"
   ]
  },
  {
   "cell_type": "code",
   "execution_count": 28,
   "metadata": {},
   "outputs": [
    {
     "data": {
      "text/html": [
       "<div>\n",
       "<style scoped>\n",
       "    .dataframe tbody tr th:only-of-type {\n",
       "        vertical-align: middle;\n",
       "    }\n",
       "\n",
       "    .dataframe tbody tr th {\n",
       "        vertical-align: top;\n",
       "    }\n",
       "\n",
       "    .dataframe thead th {\n",
       "        text-align: right;\n",
       "    }\n",
       "</style>\n",
       "<table border=\"1\" class=\"dataframe\">\n",
       "  <thead>\n",
       "    <tr style=\"text-align: right;\">\n",
       "      <th></th>\n",
       "      <th>Modelo</th>\n",
       "      <th>Kilometraje</th>\n",
       "      <th>Año</th>\n",
       "      <th>Nombre del distribuidor</th>\n",
       "      <th>Precio</th>\n",
       "    </tr>\n",
       "  </thead>\n",
       "  <tbody>\n",
       "    <tr>\n",
       "      <th>0</th>\n",
       "      <td>Jetta</td>\n",
       "      <td>78,083 Miles</td>\n",
       "      <td>2016</td>\n",
       "      <td>CarMax Manchester - Now Offering Curbside Pickup</td>\n",
       "      <td>$17,998</td>\n",
       "    </tr>\n",
       "    <tr>\n",
       "      <th>1</th>\n",
       "      <td>Jetta</td>\n",
       "      <td>18,272 Miles</td>\n",
       "      <td>2017</td>\n",
       "      <td>CarMax Glencoe (Edens Expy) - Now Offering Cur...</td>\n",
       "      <td>$22,998</td>\n",
       "    </tr>\n",
       "    <tr>\n",
       "      <th>2</th>\n",
       "      <td>Passat</td>\n",
       "      <td>77,951 Miles</td>\n",
       "      <td>2017</td>\n",
       "      <td>CarMax Naples - Now Offering Curbside Pickup A...</td>\n",
       "      <td>$16,998</td>\n",
       "    </tr>\n",
       "    <tr>\n",
       "      <th>3</th>\n",
       "      <td>Tiguan</td>\n",
       "      <td>29,397 Miles</td>\n",
       "      <td>2018</td>\n",
       "      <td>CarMax McKinney - Now Offering Curbside Pickup...</td>\n",
       "      <td>$22,998</td>\n",
       "    </tr>\n",
       "    <tr>\n",
       "      <th>4</th>\n",
       "      <td>Beetle</td>\n",
       "      <td>51,537 Miles</td>\n",
       "      <td>2013</td>\n",
       "      <td>CarMax El Paso - Now Offering Curbside Pickup</td>\n",
       "      <td>$20,998</td>\n",
       "    </tr>\n",
       "  </tbody>\n",
       "</table>\n",
       "</div>"
      ],
      "text/plain": [
       "   Modelo   Kilometraje   Año  \\\n",
       "0   Jetta  78,083 Miles  2016   \n",
       "1   Jetta  18,272 Miles  2017   \n",
       "2  Passat  77,951 Miles  2017   \n",
       "3  Tiguan  29,397 Miles  2018   \n",
       "4  Beetle  51,537 Miles  2013   \n",
       "\n",
       "                             Nombre del distribuidor   Precio  \n",
       "0   CarMax Manchester - Now Offering Curbside Pickup  $17,998  \n",
       "1  CarMax Glencoe (Edens Expy) - Now Offering Cur...  $22,998  \n",
       "2  CarMax Naples - Now Offering Curbside Pickup A...  $16,998  \n",
       "3  CarMax McKinney - Now Offering Curbside Pickup...  $22,998  \n",
       "4      CarMax El Paso - Now Offering Curbside Pickup  $20,998  "
      ]
     },
     "execution_count": 28,
     "metadata": {},
     "output_type": "execute_result"
    }
   ],
   "source": [
    "extracted_data.head()\n"
   ]
  },
  {
   "cell_type": "markdown",
   "metadata": {},
   "source": [
    "**Log that you have started the Transform phase**\n",
    "\n",
    "Registrar que ha iniciado la fase de Transformación"
   ]
  },
  {
   "cell_type": "code",
   "execution_count": 29,
   "metadata": {},
   "outputs": [],
   "source": [
    "log(\"Transform phase Started, Fase de tranformacion iniciada\")\n",
    "\n",
    "# Call the transform function\n",
    "# Llama a la función de transformación\n",
    "transformed_data = transform(extracted_data)\n",
    "\n",
    "# Log that you have completed the Transform phase\n",
    "# Registrar que se ha completado la fase de Transformación\n",
    "log(\"Transform phase Ended, Fase de transformación finalizada\")"
   ]
  },
  {
   "cell_type": "markdown",
   "metadata": {},
   "source": [
    "**checking the transformation phase**\n",
    "\n",
    "comprobando la fase de transformación"
   ]
  },
  {
   "cell_type": "code",
   "execution_count": 30,
   "metadata": {},
   "outputs": [
    {
     "data": {
      "text/html": [
       "<div>\n",
       "<style scoped>\n",
       "    .dataframe tbody tr th:only-of-type {\n",
       "        vertical-align: middle;\n",
       "    }\n",
       "\n",
       "    .dataframe tbody tr th {\n",
       "        vertical-align: top;\n",
       "    }\n",
       "\n",
       "    .dataframe thead th {\n",
       "        text-align: right;\n",
       "    }\n",
       "</style>\n",
       "<table border=\"1\" class=\"dataframe\">\n",
       "  <thead>\n",
       "    <tr style=\"text-align: right;\">\n",
       "      <th></th>\n",
       "      <th>Modelo</th>\n",
       "      <th>Kilometraje</th>\n",
       "      <th>Año</th>\n",
       "      <th>Precio</th>\n",
       "      <th>Ubicación de Distribuior</th>\n",
       "      <th>Oferta de Distribuidor</th>\n",
       "    </tr>\n",
       "  </thead>\n",
       "  <tbody>\n",
       "    <tr>\n",
       "      <th>0</th>\n",
       "      <td>Jetta</td>\n",
       "      <td>125635.547</td>\n",
       "      <td>2016</td>\n",
       "      <td>$17,998</td>\n",
       "      <td>CarMax Manchester</td>\n",
       "      <td>Now Offering Curbside Pickup</td>\n",
       "    </tr>\n",
       "    <tr>\n",
       "      <th>1</th>\n",
       "      <td>Jetta</td>\n",
       "      <td>29399.648</td>\n",
       "      <td>2017</td>\n",
       "      <td>$22,998</td>\n",
       "      <td>CarMax Glencoe (Edens Expy)</td>\n",
       "      <td>Now Offering Curbside Pickup</td>\n",
       "    </tr>\n",
       "    <tr>\n",
       "      <th>2</th>\n",
       "      <td>Passat</td>\n",
       "      <td>125423.159</td>\n",
       "      <td>2017</td>\n",
       "      <td>$16,998</td>\n",
       "      <td>CarMax Naples</td>\n",
       "      <td>Now Offering Curbside Pickup And Home Delivery</td>\n",
       "    </tr>\n",
       "    <tr>\n",
       "      <th>3</th>\n",
       "      <td>Tiguan</td>\n",
       "      <td>47299.773</td>\n",
       "      <td>2018</td>\n",
       "      <td>$22,998</td>\n",
       "      <td>CarMax McKinney</td>\n",
       "      <td>Now Offering Curbside Pickup And Home Delivery</td>\n",
       "    </tr>\n",
       "    <tr>\n",
       "      <th>4</th>\n",
       "      <td>Beetle</td>\n",
       "      <td>82923.033</td>\n",
       "      <td>2013</td>\n",
       "      <td>$20,998</td>\n",
       "      <td>CarMax El Paso</td>\n",
       "      <td>Now Offering Curbside Pickup</td>\n",
       "    </tr>\n",
       "  </tbody>\n",
       "</table>\n",
       "</div>"
      ],
      "text/plain": [
       "   Modelo  Kilometraje   Año   Precio      Ubicación de Distribuior  \\\n",
       "0   Jetta   125635.547  2016  $17,998            CarMax Manchester    \n",
       "1   Jetta    29399.648  2017  $22,998  CarMax Glencoe (Edens Expy)    \n",
       "2  Passat   125423.159  2017  $16,998                CarMax Naples    \n",
       "3  Tiguan    47299.773  2018  $22,998              CarMax McKinney    \n",
       "4  Beetle    82923.033  2013  $20,998               CarMax El Paso    \n",
       "\n",
       "                            Oferta de Distribuidor  \n",
       "0                     Now Offering Curbside Pickup  \n",
       "1                     Now Offering Curbside Pickup  \n",
       "2   Now Offering Curbside Pickup And Home Delivery  \n",
       "3   Now Offering Curbside Pickup And Home Delivery  \n",
       "4                     Now Offering Curbside Pickup  "
      ]
     },
     "execution_count": 30,
     "metadata": {},
     "output_type": "execute_result"
    }
   ],
   "source": [
    "transformed_data.head()"
   ]
  },
  {
   "cell_type": "markdown",
   "metadata": {},
   "source": [
    "**checking the load phase**\n",
    "\n",
    "comprobando la fase de carga"
   ]
  },
  {
   "cell_type": "code",
   "execution_count": 258,
   "metadata": {},
   "outputs": [],
   "source": [
    "# Log that you have started the Load step\n",
    "# Registrar que se ha iniciado el paso de carga\n",
    "log(\"Load phase Started, Fase de carga iniciada\")\n",
    "\n",
    "# Call the Load function\n",
    "# Llamar la función load\n",
    "load(targetfile, transformed_data)\n",
    "\n",
    "# Log that you have completed the Load step\n",
    "# Registrar que ha completado el paso de carga\n",
    "log(\"Load phase Ended, Fase de carga finalizada\")"
   ]
  },
  {
   "cell_type": "markdown",
   "metadata": {},
   "source": [
    "**Log that the ETL process has been completed.**\n",
    "\n",
    "Registrar que el proceso ETL ha sido completado"
   ]
  },
  {
   "cell_type": "code",
   "execution_count": 31,
   "metadata": {},
   "outputs": [],
   "source": [
    "log('ETL Process Ended, Proceso ETL finalizado')"
   ]
  },
  {
   "cell_type": "markdown",
   "metadata": {},
   "source": [
    "**Checking that csv file has been created successfully**\n",
    "\n",
    "Revisando que archivo csv se ha creado satisfactoriamente"
   ]
  },
  {
   "cell_type": "code",
   "execution_count": 32,
   "metadata": {},
   "outputs": [
    {
     "data": {
      "text/html": [
       "<div>\n",
       "<style scoped>\n",
       "    .dataframe tbody tr th:only-of-type {\n",
       "        vertical-align: middle;\n",
       "    }\n",
       "\n",
       "    .dataframe tbody tr th {\n",
       "        vertical-align: top;\n",
       "    }\n",
       "\n",
       "    .dataframe thead th {\n",
       "        text-align: right;\n",
       "    }\n",
       "</style>\n",
       "<table border=\"1\" class=\"dataframe\">\n",
       "  <thead>\n",
       "    <tr style=\"text-align: right;\">\n",
       "      <th></th>\n",
       "      <th>Modelo</th>\n",
       "      <th>Kilometraje</th>\n",
       "      <th>Año</th>\n",
       "      <th>Precio</th>\n",
       "      <th>Ubicación de Distribuior</th>\n",
       "      <th>Oferta de Distribuidor</th>\n",
       "    </tr>\n",
       "  </thead>\n",
       "  <tbody>\n",
       "    <tr>\n",
       "      <th>0</th>\n",
       "      <td>Jetta</td>\n",
       "      <td>116583.313</td>\n",
       "      <td>2016</td>\n",
       "      <td>$15,998</td>\n",
       "      <td>CarMax Hillside (Eisenhower Expy)</td>\n",
       "      <td>Now Offering Curbside Pickup</td>\n",
       "    </tr>\n",
       "    <tr>\n",
       "      <th>1</th>\n",
       "      <td>Jetta</td>\n",
       "      <td>125635.547</td>\n",
       "      <td>2016</td>\n",
       "      <td>$17,998</td>\n",
       "      <td>CarMax Manchester</td>\n",
       "      <td>Now Offering Curbside Pickup</td>\n",
       "    </tr>\n",
       "    <tr>\n",
       "      <th>2</th>\n",
       "      <td>Jetta</td>\n",
       "      <td>29399.648</td>\n",
       "      <td>2017</td>\n",
       "      <td>$22,998</td>\n",
       "      <td>CarMax Glencoe (Edens Expy)</td>\n",
       "      <td>Now Offering Curbside Pickup</td>\n",
       "    </tr>\n",
       "    <tr>\n",
       "      <th>3</th>\n",
       "      <td>Passat</td>\n",
       "      <td>125423.159</td>\n",
       "      <td>2017</td>\n",
       "      <td>$16,998</td>\n",
       "      <td>CarMax Naples</td>\n",
       "      <td>Now Offering Curbside Pickup And Home Delivery</td>\n",
       "    </tr>\n",
       "    <tr>\n",
       "      <th>4</th>\n",
       "      <td>Tiguan</td>\n",
       "      <td>47299.773</td>\n",
       "      <td>2018</td>\n",
       "      <td>$22,998</td>\n",
       "      <td>CarMax McKinney</td>\n",
       "      <td>Now Offering Curbside Pickup And Home Delivery</td>\n",
       "    </tr>\n",
       "  </tbody>\n",
       "</table>\n",
       "</div>"
      ],
      "text/plain": [
       "   Modelo  Kilometraje   Año   Precio            Ubicación de Distribuior  \\\n",
       "0   Jetta   116583.313  2016  $15,998  CarMax Hillside (Eisenhower Expy)    \n",
       "1   Jetta   125635.547  2016  $17,998                  CarMax Manchester    \n",
       "2   Jetta    29399.648  2017  $22,998        CarMax Glencoe (Edens Expy)    \n",
       "3  Passat   125423.159  2017  $16,998                      CarMax Naples    \n",
       "4  Tiguan    47299.773  2018  $22,998                    CarMax McKinney    \n",
       "\n",
       "                            Oferta de Distribuidor  \n",
       "0                     Now Offering Curbside Pickup  \n",
       "1                     Now Offering Curbside Pickup  \n",
       "2                     Now Offering Curbside Pickup  \n",
       "3   Now Offering Curbside Pickup And Home Delivery  \n",
       "4   Now Offering Curbside Pickup And Home Delivery  "
      ]
     },
     "execution_count": 32,
     "metadata": {},
     "output_type": "execute_result"
    }
   ],
   "source": [
    "df = pd.read_csv('dealership_transformed_data.csv', index_col=[0])\n",
    "df.head()"
   ]
  },
  {
   "cell_type": "markdown",
   "metadata": {},
   "source": [
    "**Review the log file**\n",
    "\n",
    "Revisar el archivo de registros"
   ]
  },
  {
   "cell_type": "code",
   "execution_count": 33,
   "metadata": {},
   "outputs": [
    {
     "data": {
      "text/html": [
       "<div>\n",
       "<style scoped>\n",
       "    .dataframe tbody tr th:only-of-type {\n",
       "        vertical-align: middle;\n",
       "    }\n",
       "\n",
       "    .dataframe tbody tr th {\n",
       "        vertical-align: top;\n",
       "    }\n",
       "\n",
       "    .dataframe thead th {\n",
       "        text-align: right;\n",
       "    }\n",
       "</style>\n",
       "<table border=\"1\" class=\"dataframe\">\n",
       "  <thead>\n",
       "    <tr style=\"text-align: right;\">\n",
       "      <th></th>\n",
       "      <th>ETL Process Job Started</th>\n",
       "      <th>Inicio de Proceso ETL</th>\n",
       "    </tr>\n",
       "    <tr>\n",
       "      <th>16:30:14-Dec-01-2021</th>\n",
       "      <th></th>\n",
       "      <th></th>\n",
       "    </tr>\n",
       "  </thead>\n",
       "  <tbody>\n",
       "    <tr>\n",
       "      <th>16:30:14-Dec-01-2021</th>\n",
       "      <td>Extract phase Ended</td>\n",
       "      <td>fase de extraccion finalizada</td>\n",
       "    </tr>\n",
       "    <tr>\n",
       "      <th>16:32:36-Dec-01-2021</th>\n",
       "      <td>ETL Process Job Started</td>\n",
       "      <td>Inicio de Proceso ETL</td>\n",
       "    </tr>\n",
       "    <tr>\n",
       "      <th>16:32:36-Dec-01-2021</th>\n",
       "      <td>Extract phase Ended</td>\n",
       "      <td>fase de extraccion finalizada</td>\n",
       "    </tr>\n",
       "    <tr>\n",
       "      <th>16:41:29-Dec-01-2021</th>\n",
       "      <td>Transform phase Started</td>\n",
       "      <td>Fase de tranformacion iniciada</td>\n",
       "    </tr>\n",
       "    <tr>\n",
       "      <th>16:41:29-Dec-01-2021</th>\n",
       "      <td>Transform phase Ended</td>\n",
       "      <td>Fase de transformación finalizada</td>\n",
       "    </tr>\n",
       "    <tr>\n",
       "      <th>16:45:09-Dec-01-2021</th>\n",
       "      <td>ETL Process Job Started</td>\n",
       "      <td>Inicio de Proceso ETL</td>\n",
       "    </tr>\n",
       "    <tr>\n",
       "      <th>16:45:09-Dec-01-2021</th>\n",
       "      <td>Extract phase Ended</td>\n",
       "      <td>fase de extraccion finalizada</td>\n",
       "    </tr>\n",
       "    <tr>\n",
       "      <th>16:50:01-Dec-01-2021</th>\n",
       "      <td>Load phase Started</td>\n",
       "      <td>Fase de carga iniciada</td>\n",
       "    </tr>\n",
       "    <tr>\n",
       "      <th>16:50:02-Dec-01-2021</th>\n",
       "      <td>Load phase Ended</td>\n",
       "      <td>Fase de carga finalizada</td>\n",
       "    </tr>\n",
       "    <tr>\n",
       "      <th>16:53:27-Dec-01-2021</th>\n",
       "      <td>ETL Process Ended</td>\n",
       "      <td>Proceso ETL finalizado</td>\n",
       "    </tr>\n",
       "    <tr>\n",
       "      <th>17:08:15-Dec-01-2021</th>\n",
       "      <td>Transform phase Started</td>\n",
       "      <td>Fase de tranformacion iniciada</td>\n",
       "    </tr>\n",
       "    <tr>\n",
       "      <th>17:08:15-Dec-01-2021</th>\n",
       "      <td>Transform phase Ended</td>\n",
       "      <td>Fase de transformación finalizada</td>\n",
       "    </tr>\n",
       "    <tr>\n",
       "      <th>17:08:23-Dec-01-2021</th>\n",
       "      <td>Load phase Started</td>\n",
       "      <td>Fase de carga iniciada</td>\n",
       "    </tr>\n",
       "    <tr>\n",
       "      <th>17:08:23-Dec-01-2021</th>\n",
       "      <td>Load phase Ended</td>\n",
       "      <td>Fase de carga finalizada</td>\n",
       "    </tr>\n",
       "    <tr>\n",
       "      <th>17:08:29-Dec-01-2021</th>\n",
       "      <td>ETL Process Ended</td>\n",
       "      <td>Proceso ETL finalizado</td>\n",
       "    </tr>\n",
       "    <tr>\n",
       "      <th>21:26:43-Dec-02-2021</th>\n",
       "      <td>ETL Process Job Started</td>\n",
       "      <td>Inicio de Proceso ETL</td>\n",
       "    </tr>\n",
       "    <tr>\n",
       "      <th>21:26:43-Dec-02-2021</th>\n",
       "      <td>Extract phase Ended</td>\n",
       "      <td>fase de extraccion finalizada</td>\n",
       "    </tr>\n",
       "    <tr>\n",
       "      <th>21:27:03-Dec-02-2021</th>\n",
       "      <td>Transform phase Started</td>\n",
       "      <td>Fase de tranformacion iniciada</td>\n",
       "    </tr>\n",
       "    <tr>\n",
       "      <th>21:27:03-Dec-02-2021</th>\n",
       "      <td>Transform phase Ended</td>\n",
       "      <td>Fase de transformación finalizada</td>\n",
       "    </tr>\n",
       "    <tr>\n",
       "      <th>21:27:14-Dec-02-2021</th>\n",
       "      <td>ETL Process Ended</td>\n",
       "      <td>Proceso ETL finalizado</td>\n",
       "    </tr>\n",
       "  </tbody>\n",
       "</table>\n",
       "</div>"
      ],
      "text/plain": [
       "                      ETL Process Job Started  \\\n",
       "16:30:14-Dec-01-2021                            \n",
       "16:30:14-Dec-01-2021      Extract phase Ended   \n",
       "16:32:36-Dec-01-2021  ETL Process Job Started   \n",
       "16:32:36-Dec-01-2021      Extract phase Ended   \n",
       "16:41:29-Dec-01-2021  Transform phase Started   \n",
       "16:41:29-Dec-01-2021    Transform phase Ended   \n",
       "16:45:09-Dec-01-2021  ETL Process Job Started   \n",
       "16:45:09-Dec-01-2021      Extract phase Ended   \n",
       "16:50:01-Dec-01-2021       Load phase Started   \n",
       "16:50:02-Dec-01-2021         Load phase Ended   \n",
       "16:53:27-Dec-01-2021        ETL Process Ended   \n",
       "17:08:15-Dec-01-2021  Transform phase Started   \n",
       "17:08:15-Dec-01-2021    Transform phase Ended   \n",
       "17:08:23-Dec-01-2021       Load phase Started   \n",
       "17:08:23-Dec-01-2021         Load phase Ended   \n",
       "17:08:29-Dec-01-2021        ETL Process Ended   \n",
       "21:26:43-Dec-02-2021  ETL Process Job Started   \n",
       "21:26:43-Dec-02-2021      Extract phase Ended   \n",
       "21:27:03-Dec-02-2021  Transform phase Started   \n",
       "21:27:03-Dec-02-2021    Transform phase Ended   \n",
       "21:27:14-Dec-02-2021        ETL Process Ended   \n",
       "\n",
       "                                   Inicio de Proceso ETL  \n",
       "16:30:14-Dec-01-2021                                      \n",
       "16:30:14-Dec-01-2021       fase de extraccion finalizada  \n",
       "16:32:36-Dec-01-2021               Inicio de Proceso ETL  \n",
       "16:32:36-Dec-01-2021       fase de extraccion finalizada  \n",
       "16:41:29-Dec-01-2021      Fase de tranformacion iniciada  \n",
       "16:41:29-Dec-01-2021   Fase de transformación finalizada  \n",
       "16:45:09-Dec-01-2021               Inicio de Proceso ETL  \n",
       "16:45:09-Dec-01-2021       fase de extraccion finalizada  \n",
       "16:50:01-Dec-01-2021              Fase de carga iniciada  \n",
       "16:50:02-Dec-01-2021            Fase de carga finalizada  \n",
       "16:53:27-Dec-01-2021              Proceso ETL finalizado  \n",
       "17:08:15-Dec-01-2021      Fase de tranformacion iniciada  \n",
       "17:08:15-Dec-01-2021   Fase de transformación finalizada  \n",
       "17:08:23-Dec-01-2021              Fase de carga iniciada  \n",
       "17:08:23-Dec-01-2021            Fase de carga finalizada  \n",
       "17:08:29-Dec-01-2021              Proceso ETL finalizado  \n",
       "21:26:43-Dec-02-2021               Inicio de Proceso ETL  \n",
       "21:26:43-Dec-02-2021       fase de extraccion finalizada  \n",
       "21:27:03-Dec-02-2021      Fase de tranformacion iniciada  \n",
       "21:27:03-Dec-02-2021   Fase de transformación finalizada  \n",
       "21:27:14-Dec-02-2021              Proceso ETL finalizado  "
      ]
     },
     "execution_count": 33,
     "metadata": {},
     "output_type": "execute_result"
    }
   ],
   "source": [
    "df_logs = pd.read_csv('dealership_logfile.txt', index_col=0, encoding = 'latin-1')\n",
    "df_logs"
   ]
  },
  {
   "cell_type": "markdown",
   "metadata": {},
   "source": [
    "---"
   ]
  },
  {
   "cell_type": "markdown",
   "metadata": {},
   "source": [
    "## Multi-page Scraping\n",
    "\n",
    "## Scraping de Multiples páginas"
   ]
  },
  {
   "cell_type": "code",
   "execution_count": 9,
   "metadata": {},
   "outputs": [],
   "source": [
    "def Scraping(url, filename):\n",
    "\n",
    "    headers = {\n",
    "        'authority': 'www.autolist.com',\n",
    "        'sec-ch-ua': '^\\\\^Chromium^\\\\^;v=^\\\\^94^\\\\^, ^\\\\^Google',\n",
    "        'accept': '*/*',\n",
    "        'x-requested-with': 'XMLHttpRequest',\n",
    "        'sec-ch-ua-mobile': '?0',\n",
    "        'x-autolist-session-guid': 'c9fb9ffb-2c06-4468-a3d0-c26290c6994f',\n",
    "        'user-agent': 'Mozilla/5.0 (Windows NT 10.0; Win64; x64) AppleWebKit/537.36 (KHTML, like Gecko) Chrome/94.0.4590.0 Safari/537.36',\n",
    "        'sec-ch-ua-platform': '^\\\\^Windows^\\\\^',\n",
    "        'sec-fetch-site': 'same-origin',\n",
    "        'sec-fetch-mode': 'cors',\n",
    "        'sec-fetch-dest': 'empty',\n",
    "        'referer': 'https://www.autolist.com/listings',\n",
    "        'accept-language': 'en-US,en;q=0.9',\n",
    "        'cookie': 'ec=eyJlZGdlVXNlckFnZW50IjoiTW96aWxsYS81LjAgKFdpbmRvd3MgTlQgMTAuMDsgV2luNjQ7IHg2NCkgQXBwbGVXZWJLaXQvNTM3LjM2IChLSFRNTCwgbGlrZSBHZWNrbykgQ2hyb21lLzk0LjAuNDU5MC4wIFNhZmFyaS81MzcuMzYifQ==; client_guid_timestamp=1602952f-d1bf-4936-82e3-cbdedfa11d2d.1627825394925; scavenger-a493=i2edJn8U8quG2BtrlZCXcua4KB62fcJRrAhaI/t9eYZNJczdHQYj3P0Y4s6myhEl4IbJl8vp9L0oN+SXDh2fFcTvJ/vA/hPyRJ0ohE6LnQGIee5ACCL3nGqW5xFg3QnijfTypiJhVgTfPjk3c81AtkxzR54e+BHqQL0DI6/oWNd7iIkgvHaWjuilZuITytvFV0IAUJ0bX041NuAIFpx8K90bzfPLeAKgkwc0lpwB3cLwm8NcNKMD3xELdjI6leANl5jZJ9KzZ3K+5J7nCpxnAynFJJt2e95bby70BTVZ0qdWtSWGgwFxEdjmesrF42H7EgAjt4LMIKDuRVtbhVwu/q/wUhPoUZvZb6F+CbFpxMXuZTpd27JmWUrboqGTfyS3Nr7gV1kl6hr+8w0aOlmo8NlrdmNRb0u51Ex4zu4JTymiAUsWvS9JhNr/uvk4GVvM3kafDQeKq7v+xHkB/lCvPkqLEifYP7VVan6h5ZmvaQTgULjs0N5JhUd76Pt6c/tY5R0v8R67gjgbvW8n/4Gqzw==; _sp_ses.8ca5=*; _gid=GA1.2.96049973.1627825395; _fbp=fb.1.1627825395573.409117512; __gads=ID=c459f8bf6d0987dd:T=1627825394:S=ALNI_MaW1epD3HNJsvJQTCnPWSJCcOdE_w; AMP_TOKEN=^%^24NOT_FOUND; sp-nuid=e4461948-a1a2-45a1-88f8-45c2889d9576; _gcl_au=1.1.519751617.1627825557; _ga_152345333=GS1.1.1627825395.1.1.1627828426.0; _ga=GA1.2.2118379867.1627825395; cto_bundle=WV1etl8zMUc1cGt6WnZNSEZMYWhwNnJjUXpTYzQxVzZ6QzM5VE1tWXZFcjQ3ZWhrNTlETG1CemlUdmNFYUtIbXdCQTNFelJmY3h6QXA0SlVIZml0WVg2OWQxZlBPMmRqbExXNU9XZTM0V0VaR09tbHBvJTJGdERCb21zZUVKJTJCTG1vVzlDV0w2VjA0bDklMkJnRjdrMmZPUExmJTJGY0l6USUzRCUzRA; _gat=1; _sp_id.8ca5=d3d3f60d-371c-4289-92fe-1c6f66b4979f.1627825395.1.1627828912.1627825395.8bc1e545-8ca1-448e-b1ba-ec8d2c359ada',\n",
    "        'if-none-match': 'W/^\\\\^c6f72fa4ef059e03ea0309ebd57c197d^\\\\^',\n",
    "    }\n",
    "\n",
    "    response = requests.get(url, headers=headers)\n",
    "    print('the response status is : {}'.format(response))\n",
    "\n",
    "    id = []\n",
    "    modelo = []\n",
    "    kilometraje = []\n",
    "    año = []\n",
    "    nom_distribuidor = []\n",
    "    precio = []\n",
    "\n",
    "    # EXTRACT\n",
    "    # 5 pages (5 paginas)\n",
    "    for i in range(1,6):\n",
    "\n",
    "        # json object\n",
    "        results_json = response.json()\n",
    "        \n",
    "        # result items (20 items por cada pagina)\n",
    "        result_items = results_json['search_results']\n",
    "        \n",
    "        for result in result_items:\n",
    "            id.append(result['id'])\n",
    "            modelo.append(result['model'])\n",
    "            kilometraje.append(result['mileage'])\n",
    "            año.append(result['year']) \n",
    "            nom_distribuidor.append(result['dealer_name']) \n",
    "            precio.append(result['price'])\n",
    "    \n",
    "        multiple_df = pd.DataFrame({'id': id, 'Modelo': modelo, 'Kilometraje': kilometraje, 'Año': año,\n",
    "                                    'Nombre del distribuidor': nom_distribuidor, 'Precio': precio})\n",
    "\n",
    "        # TRANSFORM\n",
    "        without_miles = lambda x: x.strip(' Miles').replace(',', '')\n",
    "        multiple_df['Kilometraje'] = multiple_df['Kilometraje'].apply(without_miles)\n",
    "        multiple_df['Kilometraje'] = multiple_df['Kilometraje'].apply(lambda km: float(km) * 1.609)\n",
    "        multiple_df['Precio'] = multiple_df['Precio'].apply(lambda p: p.replace(',', '').strip('$'))\n",
    "        \n",
    "        \n",
    "        multiple_df['Ubicación de Distribuidor'] = multiple_df['Nombre del distribuidor'].apply(lambda col: col.split('-')[0])\n",
    "        multiple_df['Oferta de Distribuidor'] = multiple_df['Nombre del distribuidor'].apply(lambda col: col.split('-')[1])\n",
    "        multiple_df['Oferta de Distribuidor'] = multiple_df['Oferta de Distribuidor'].apply(lambda space: space.strip(' '))\n",
    "        multiple_df['Ubicación de Distribuidor'] = multiple_df['Ubicación de Distribuidor'].apply(lambda space2: space2.strip(' '))\n",
    "        multiple_df.drop(['Nombre del distribuidor'], axis=1, inplace=True)\n",
    "        \n",
    "        # LOAD    \n",
    "        multiple_df.to_csv(filename + '.csv', index=False)            \n",
    "            \n",
    "    return multiple_df.head()\n"
   ]
  },
  {
   "cell_type": "code",
   "execution_count": 10,
   "metadata": {},
   "outputs": [],
   "source": [
    "url_5pages = \"https://www.autolist.com/api/cwv/seo/listings?make=Volkswagen&location=Celaya,%20Gto.&latitude=20.5135374&longitude=-100.8160686&radius=50&page=1\""
   ]
  },
  {
   "cell_type": "code",
   "execution_count": 11,
   "metadata": {},
   "outputs": [
    {
     "name": "stdout",
     "output_type": "stream",
     "text": [
      "the response status is : <Response [200]>\n"
     ]
    },
    {
     "data": {
      "text/html": [
       "<div>\n",
       "<style scoped>\n",
       "    .dataframe tbody tr th:only-of-type {\n",
       "        vertical-align: middle;\n",
       "    }\n",
       "\n",
       "    .dataframe tbody tr th {\n",
       "        vertical-align: top;\n",
       "    }\n",
       "\n",
       "    .dataframe thead th {\n",
       "        text-align: right;\n",
       "    }\n",
       "</style>\n",
       "<table border=\"1\" class=\"dataframe\">\n",
       "  <thead>\n",
       "    <tr style=\"text-align: right;\">\n",
       "      <th></th>\n",
       "      <th>id</th>\n",
       "      <th>Modelo</th>\n",
       "      <th>Kilometraje</th>\n",
       "      <th>Año</th>\n",
       "      <th>Precio</th>\n",
       "      <th>Ubicación de Distribuidor</th>\n",
       "      <th>Oferta de Distribuidor</th>\n",
       "    </tr>\n",
       "  </thead>\n",
       "  <tbody>\n",
       "    <tr>\n",
       "      <th>0</th>\n",
       "      <td>232289104</td>\n",
       "      <td>Jetta</td>\n",
       "      <td>125635.547</td>\n",
       "      <td>2016</td>\n",
       "      <td>17998</td>\n",
       "      <td>CarMax Manchester</td>\n",
       "      <td>Now Offering Curbside Pickup</td>\n",
       "    </tr>\n",
       "    <tr>\n",
       "      <th>1</th>\n",
       "      <td>230419192</td>\n",
       "      <td>Jetta</td>\n",
       "      <td>29399.648</td>\n",
       "      <td>2017</td>\n",
       "      <td>22998</td>\n",
       "      <td>CarMax Glencoe (Edens Expy)</td>\n",
       "      <td>Now Offering Curbside Pickup</td>\n",
       "    </tr>\n",
       "    <tr>\n",
       "      <th>2</th>\n",
       "      <td>232489416</td>\n",
       "      <td>Beetle</td>\n",
       "      <td>82923.033</td>\n",
       "      <td>2013</td>\n",
       "      <td>20998</td>\n",
       "      <td>CarMax El Paso</td>\n",
       "      <td>Now Offering Curbside Pickup</td>\n",
       "    </tr>\n",
       "    <tr>\n",
       "      <th>3</th>\n",
       "      <td>232848639</td>\n",
       "      <td>Passat</td>\n",
       "      <td>55410.742</td>\n",
       "      <td>2018</td>\n",
       "      <td>21998</td>\n",
       "      <td>CarMax Newark</td>\n",
       "      <td>Now Offering Curbside Pickup</td>\n",
       "    </tr>\n",
       "    <tr>\n",
       "      <th>4</th>\n",
       "      <td>232850566</td>\n",
       "      <td>Jetta</td>\n",
       "      <td>10392.531</td>\n",
       "      <td>2021</td>\n",
       "      <td>25998</td>\n",
       "      <td>CarMax Turnersville</td>\n",
       "      <td>Now Offering Curbside Pickup</td>\n",
       "    </tr>\n",
       "  </tbody>\n",
       "</table>\n",
       "</div>"
      ],
      "text/plain": [
       "          id  Modelo  Kilometraje   Año Precio    Ubicación de Distribuidor  \\\n",
       "0  232289104   Jetta   125635.547  2016  17998            CarMax Manchester   \n",
       "1  230419192   Jetta    29399.648  2017  22998  CarMax Glencoe (Edens Expy)   \n",
       "2  232489416  Beetle    82923.033  2013  20998               CarMax El Paso   \n",
       "3  232848639  Passat    55410.742  2018  21998                CarMax Newark   \n",
       "4  232850566   Jetta    10392.531  2021  25998          CarMax Turnersville   \n",
       "\n",
       "         Oferta de Distribuidor  \n",
       "0  Now Offering Curbside Pickup  \n",
       "1  Now Offering Curbside Pickup  \n",
       "2  Now Offering Curbside Pickup  \n",
       "3  Now Offering Curbside Pickup  \n",
       "4  Now Offering Curbside Pickup  "
      ]
     },
     "execution_count": 11,
     "metadata": {},
     "output_type": "execute_result"
    }
   ],
   "source": [
    "Scraping(url_5pages, 'data_multipages')"
   ]
  },
  {
   "cell_type": "code",
   "execution_count": 12,
   "metadata": {},
   "outputs": [
    {
     "data": {
      "text/html": [
       "<div>\n",
       "<style scoped>\n",
       "    .dataframe tbody tr th:only-of-type {\n",
       "        vertical-align: middle;\n",
       "    }\n",
       "\n",
       "    .dataframe tbody tr th {\n",
       "        vertical-align: top;\n",
       "    }\n",
       "\n",
       "    .dataframe thead th {\n",
       "        text-align: right;\n",
       "    }\n",
       "</style>\n",
       "<table border=\"1\" class=\"dataframe\">\n",
       "  <thead>\n",
       "    <tr style=\"text-align: right;\">\n",
       "      <th></th>\n",
       "      <th>id</th>\n",
       "      <th>Modelo</th>\n",
       "      <th>Kilometraje</th>\n",
       "      <th>Año</th>\n",
       "      <th>Precio</th>\n",
       "      <th>Ubicación de Distribuidor</th>\n",
       "      <th>Oferta de Distribuidor</th>\n",
       "    </tr>\n",
       "  </thead>\n",
       "  <tbody>\n",
       "    <tr>\n",
       "      <th>0</th>\n",
       "      <td>232289104</td>\n",
       "      <td>Jetta</td>\n",
       "      <td>125635.547</td>\n",
       "      <td>2016</td>\n",
       "      <td>17998</td>\n",
       "      <td>CarMax Manchester</td>\n",
       "      <td>Now Offering Curbside Pickup</td>\n",
       "    </tr>\n",
       "    <tr>\n",
       "      <th>1</th>\n",
       "      <td>230419192</td>\n",
       "      <td>Jetta</td>\n",
       "      <td>29399.648</td>\n",
       "      <td>2017</td>\n",
       "      <td>22998</td>\n",
       "      <td>CarMax Glencoe (Edens Expy)</td>\n",
       "      <td>Now Offering Curbside Pickup</td>\n",
       "    </tr>\n",
       "    <tr>\n",
       "      <th>2</th>\n",
       "      <td>232489416</td>\n",
       "      <td>Beetle</td>\n",
       "      <td>82923.033</td>\n",
       "      <td>2013</td>\n",
       "      <td>20998</td>\n",
       "      <td>CarMax El Paso</td>\n",
       "      <td>Now Offering Curbside Pickup</td>\n",
       "    </tr>\n",
       "    <tr>\n",
       "      <th>3</th>\n",
       "      <td>232848639</td>\n",
       "      <td>Passat</td>\n",
       "      <td>55410.742</td>\n",
       "      <td>2018</td>\n",
       "      <td>21998</td>\n",
       "      <td>CarMax Newark</td>\n",
       "      <td>Now Offering Curbside Pickup</td>\n",
       "    </tr>\n",
       "    <tr>\n",
       "      <th>4</th>\n",
       "      <td>232850566</td>\n",
       "      <td>Jetta</td>\n",
       "      <td>10392.531</td>\n",
       "      <td>2021</td>\n",
       "      <td>25998</td>\n",
       "      <td>CarMax Turnersville</td>\n",
       "      <td>Now Offering Curbside Pickup</td>\n",
       "    </tr>\n",
       "  </tbody>\n",
       "</table>\n",
       "</div>"
      ],
      "text/plain": [
       "          id  Modelo  Kilometraje   Año  Precio    Ubicación de Distribuidor  \\\n",
       "0  232289104   Jetta   125635.547  2016   17998            CarMax Manchester   \n",
       "1  230419192   Jetta    29399.648  2017   22998  CarMax Glencoe (Edens Expy)   \n",
       "2  232489416  Beetle    82923.033  2013   20998               CarMax El Paso   \n",
       "3  232848639  Passat    55410.742  2018   21998                CarMax Newark   \n",
       "4  232850566   Jetta    10392.531  2021   25998          CarMax Turnersville   \n",
       "\n",
       "         Oferta de Distribuidor  \n",
       "0  Now Offering Curbside Pickup  \n",
       "1  Now Offering Curbside Pickup  \n",
       "2  Now Offering Curbside Pickup  \n",
       "3  Now Offering Curbside Pickup  \n",
       "4  Now Offering Curbside Pickup  "
      ]
     },
     "execution_count": 12,
     "metadata": {},
     "output_type": "execute_result"
    }
   ],
   "source": [
    "# review the newly created csv file\n",
    "# revisar el archivo csv recien creado\n",
    "multiple_df = pd.read_csv('data_multipages.csv')\n",
    "multiple_df.head()"
   ]
  },
  {
   "cell_type": "markdown",
   "metadata": {},
   "source": [
    "---"
   ]
  },
  {
   "cell_type": "markdown",
   "metadata": {},
   "source": [
    "## Loading the dataset to a table in MySQL\n",
    "\n",
    "## Cargando el dataset a una tabla en MySQL "
   ]
  },
  {
   "cell_type": "code",
   "execution_count": 13,
   "metadata": {},
   "outputs": [
    {
     "data": {
      "text/plain": [
       "(100, 7)"
      ]
     },
     "execution_count": 13,
     "metadata": {},
     "output_type": "execute_result"
    }
   ],
   "source": [
    "# 100 filas 5 columnas\n",
    "multiple_df.shape"
   ]
  },
  {
   "cell_type": "code",
   "execution_count": 14,
   "metadata": {},
   "outputs": [
    {
     "data": {
      "text/plain": [
       "array(['id', 'Modelo', 'Kilometraje', 'Año', 'Precio',\n",
       "       'Ubicación de Distribuidor', 'Oferta de Distribuidor'],\n",
       "      dtype=object)"
      ]
     },
     "execution_count": 14,
     "metadata": {},
     "output_type": "execute_result"
    }
   ],
   "source": [
    "multiple_df.columns.values "
   ]
  },
  {
   "cell_type": "code",
   "execution_count": 1,
   "metadata": {},
   "outputs": [],
   "source": [
    "import pymysql\n",
    "import mysql.connector"
   ]
  },
  {
   "cell_type": "code",
   "execution_count": 78,
   "metadata": {},
   "outputs": [
    {
     "name": "stdout",
     "output_type": "stream",
     "text": [
      "('id', b'bigint', 'NO', 'PRI', None, '')\n",
      "('modelo', b'varchar(50)', 'YES', '', None, '')\n",
      "('km', b'float(6,3)', 'YES', '', None, '')\n",
      "('año', b'int', 'YES', '', None, '')\n",
      "('precio', b'int', 'YES', '', None, '')\n",
      "('ubicacion_distribuidor', b'varchar(255)', 'YES', '', None, '')\n",
      "('oferta_distribuidor', b'varchar(255)', 'YES', '', None, '')\n"
     ]
    }
   ],
   "source": [
    "db= mysql.connector.connect(\n",
    "    host = 'localhost',\n",
    "    user = 'root',\n",
    "    password = 'dadax_0331//_1330',\n",
    "    database = 'test_autolist'\n",
    ")\n",
    "my_cur = db.cursor()\n",
    "\n",
    "my_cur.execute(\"DROP TABLE IF EXISTS cars_celaya\")\n",
    "my_cur.execute(\"CREATE TABLE cars_celaya (id bigint PRIMARY KEY, modelo varchar(50), km float(6,3), año int, precio int, ubicacion_distribuidor varchar(255), oferta_distribuidor varchar(255));\")\n",
    "my_cur.execute('DESCRIBE cars_celaya')\n",
    "\n",
    "for x in my_cur:\n",
    "    print(x)\n"
   ]
  },
  {
   "cell_type": "markdown",
   "metadata": {},
   "source": [
    "**creating the INSERT statement**\n",
    "\n",
    "creando la sentencia INSERT"
   ]
  },
  {
   "cell_type": "code",
   "execution_count": 97,
   "metadata": {},
   "outputs": [],
   "source": [
    "insert_query = 'INSERT INTO cars_celaya (id, modelo, km, año, precio, ubicacion_distribuidor, oferta_distribuidor) VALUES '\n"
   ]
  },
  {
   "cell_type": "code",
   "execution_count": 98,
   "metadata": {},
   "outputs": [],
   "source": [
    "\n",
    "for i in range(multiple_df.shape[0]):  # num of rows\n",
    "    insert_query += '('\n",
    "\n",
    "    for j in range(multiple_df.shape[1]):  # num of columns\n",
    "\n",
    "        insert_query += str(multiple_df[multiple_df.columns.values[j]][i]) + ', ' \n",
    "\n",
    "    insert_query = insert_query[:-2] + '), '\n"
   ]
  },
  {
   "cell_type": "code",
   "execution_count": 99,
   "metadata": {},
   "outputs": [],
   "source": [
    "insert_query = insert_query[:-2] + ';'\n"
   ]
  },
  {
   "cell_type": "code",
   "execution_count": 100,
   "metadata": {},
   "outputs": [
    {
     "data": {
      "text/plain": [
       "'INSERT INTO cars_celaya (id, modelo, km, año, precio, ubicacion_distribuidor, oferta_distribuidor) VALUES (232289104, Jetta, 125635.547, 2016, 17998, CarMax Manchester, Now Offering Curbside Pickup), (230419192, Jetta, 29399.648, 2017, 22998, CarMax Glencoe (Edens Expy), Now Offering Curbside Pickup), (232489416, Beetle, 82923.033, 2013, 20998, CarMax El Paso, Now Offering Curbside Pickup), (232848639, Passat, 55410.742, 2018, 21998, CarMax Newark, Now Offering Curbside Pickup), (232850566, Jetta, 10392.531, 2021, 25998, CarMax Turnersville, Now Offering Curbside Pickup), (232778839, Tiguan, 91762.879, 2018, 20998, CarMax Sanford, Now Offering Curbside Pickup And Home Delivery), (232106560, Jetta, 112341.989, 2019, 19998, CarMax Gulf Freeway, Now Offering Curbside Pickup And Home Delivery), (232028696, Arteon, 11444.817, 2021, 44998, CarMax St. Louis Mid Rivers Mall, Now Offering Curbside Pickup), (232652409, Tiguan, 49549.155, 2019, 27998, CarMax Jacksonville, Now Offering Curbside Pickup And Home Delivery), (232849477, Jetta, 25948.343, 2019, 19998, CarMax Colorado Springs, Now Offering Curbside Pickup And Home Delivery), (232027118, Jetta, 45534.7, 2019, 25998, CarMax Gaithersburg, Now Offering Curbside Pickup), (231960124, Golf, 7227.628, 2020, 25998, CarMax Fort Bend, Now Offering Curbside Pickup And Home Delivery), (230450210, Tiguan, 25615.28, 2017, 21998, CarMax Miami Lakes, Now Offering Curbside Pickup And Home Delivery), (230651920, Jetta, 66599.728, 2019, 22998, CarMax West Sahara, Now Offering Curbside Pickup And Home Delivery), (232670338, Atlas, 80781.454, 2018, 35998, CarMax Fremont, Now Open), (232644027, Atlas Cross Sport, 31336.884, 2020, 37998, CarMax Independence Boulevard, Now Offering Curbside Pickup And Home Delivery), (230904851, Passat, 83201.39, 2017, 17998, CarMax Ft. Lauderdale, Now Offering Curbside Pickup And Home Delivery), (231345193, Atlas, 19768.174, 2020, 44998, CarMax Frederick, Now Offering Curbside Pickup), (232349277, Tiguan, 47579.739, 2018, 32998, CarMax Gastonia, Now Offering Curbside Pickup And Home Delivery), (232776052, Tiguan, 104420.882, 2014, 19998, CarMax Murrieta, Now Offering Curbside Pickup And Home Delivery), (232289104, Jetta, 125635.547, 2016, 17998, CarMax Manchester, Now Offering Curbside Pickup), (230419192, Jetta, 29399.648, 2017, 22998, CarMax Glencoe (Edens Expy), Now Offering Curbside Pickup), (232489416, Beetle, 82923.033, 2013, 20998, CarMax El Paso, Now Offering Curbside Pickup), (232848639, Passat, 55410.742, 2018, 21998, CarMax Newark, Now Offering Curbside Pickup), (232850566, Jetta, 10392.531, 2021, 25998, CarMax Turnersville, Now Offering Curbside Pickup), (232778839, Tiguan, 91762.879, 2018, 20998, CarMax Sanford, Now Offering Curbside Pickup And Home Delivery), (232106560, Jetta, 112341.989, 2019, 19998, CarMax Gulf Freeway, Now Offering Curbside Pickup And Home Delivery), (232028696, Arteon, 11444.817, 2021, 44998, CarMax St. Louis Mid Rivers Mall, Now Offering Curbside Pickup), (232652409, Tiguan, 49549.155, 2019, 27998, CarMax Jacksonville, Now Offering Curbside Pickup And Home Delivery), (232849477, Jetta, 25948.343, 2019, 19998, CarMax Colorado Springs, Now Offering Curbside Pickup And Home Delivery), (232027118, Jetta, 45534.7, 2019, 25998, CarMax Gaithersburg, Now Offering Curbside Pickup), (231960124, Golf, 7227.628, 2020, 25998, CarMax Fort Bend, Now Offering Curbside Pickup And Home Delivery), (230450210, Tiguan, 25615.28, 2017, 21998, CarMax Miami Lakes, Now Offering Curbside Pickup And Home Delivery), (230651920, Jetta, 66599.728, 2019, 22998, CarMax West Sahara, Now Offering Curbside Pickup And Home Delivery), (232670338, Atlas, 80781.454, 2018, 35998, CarMax Fremont, Now Open), (232644027, Atlas Cross Sport, 31336.884, 2020, 37998, CarMax Independence Boulevard, Now Offering Curbside Pickup And Home Delivery), (230904851, Passat, 83201.39, 2017, 17998, CarMax Ft. Lauderdale, Now Offering Curbside Pickup And Home Delivery), (231345193, Atlas, 19768.174, 2020, 44998, CarMax Frederick, Now Offering Curbside Pickup), (232349277, Tiguan, 47579.739, 2018, 32998, CarMax Gastonia, Now Offering Curbside Pickup And Home Delivery), (232776052, Tiguan, 104420.882, 2014, 19998, CarMax Murrieta, Now Offering Curbside Pickup And Home Delivery), (232289104, Jetta, 125635.547, 2016, 17998, CarMax Manchester, Now Offering Curbside Pickup), (230419192, Jetta, 29399.648, 2017, 22998, CarMax Glencoe (Edens Expy), Now Offering Curbside Pickup), (232489416, Beetle, 82923.033, 2013, 20998, CarMax El Paso, Now Offering Curbside Pickup), (232848639, Passat, 55410.742, 2018, 21998, CarMax Newark, Now Offering Curbside Pickup), (232850566, Jetta, 10392.531, 2021, 25998, CarMax Turnersville, Now Offering Curbside Pickup), (232778839, Tiguan, 91762.879, 2018, 20998, CarMax Sanford, Now Offering Curbside Pickup And Home Delivery), (232106560, Jetta, 112341.989, 2019, 19998, CarMax Gulf Freeway, Now Offering Curbside Pickup And Home Delivery), (232028696, Arteon, 11444.817, 2021, 44998, CarMax St. Louis Mid Rivers Mall, Now Offering Curbside Pickup), (232652409, Tiguan, 49549.155, 2019, 27998, CarMax Jacksonville, Now Offering Curbside Pickup And Home Delivery), (232849477, Jetta, 25948.343, 2019, 19998, CarMax Colorado Springs, Now Offering Curbside Pickup And Home Delivery), (232027118, Jetta, 45534.7, 2019, 25998, CarMax Gaithersburg, Now Offering Curbside Pickup), (231960124, Golf, 7227.628, 2020, 25998, CarMax Fort Bend, Now Offering Curbside Pickup And Home Delivery), (230450210, Tiguan, 25615.28, 2017, 21998, CarMax Miami Lakes, Now Offering Curbside Pickup And Home Delivery), (230651920, Jetta, 66599.728, 2019, 22998, CarMax West Sahara, Now Offering Curbside Pickup And Home Delivery), (232670338, Atlas, 80781.454, 2018, 35998, CarMax Fremont, Now Open), (232644027, Atlas Cross Sport, 31336.884, 2020, 37998, CarMax Independence Boulevard, Now Offering Curbside Pickup And Home Delivery), (230904851, Passat, 83201.39, 2017, 17998, CarMax Ft. Lauderdale, Now Offering Curbside Pickup And Home Delivery), (231345193, Atlas, 19768.174, 2020, 44998, CarMax Frederick, Now Offering Curbside Pickup), (232349277, Tiguan, 47579.739, 2018, 32998, CarMax Gastonia, Now Offering Curbside Pickup And Home Delivery), (232776052, Tiguan, 104420.882, 2014, 19998, CarMax Murrieta, Now Offering Curbside Pickup And Home Delivery), (232289104, Jetta, 125635.547, 2016, 17998, CarMax Manchester, Now Offering Curbside Pickup), (230419192, Jetta, 29399.648, 2017, 22998, CarMax Glencoe (Edens Expy), Now Offering Curbside Pickup), (232489416, Beetle, 82923.033, 2013, 20998, CarMax El Paso, Now Offering Curbside Pickup), (232848639, Passat, 55410.742, 2018, 21998, CarMax Newark, Now Offering Curbside Pickup), (232850566, Jetta, 10392.531, 2021, 25998, CarMax Turnersville, Now Offering Curbside Pickup), (232778839, Tiguan, 91762.879, 2018, 20998, CarMax Sanford, Now Offering Curbside Pickup And Home Delivery), (232106560, Jetta, 112341.989, 2019, 19998, CarMax Gulf Freeway, Now Offering Curbside Pickup And Home Delivery), (232028696, Arteon, 11444.817, 2021, 44998, CarMax St. Louis Mid Rivers Mall, Now Offering Curbside Pickup), (232652409, Tiguan, 49549.155, 2019, 27998, CarMax Jacksonville, Now Offering Curbside Pickup And Home Delivery), (232849477, Jetta, 25948.343, 2019, 19998, CarMax Colorado Springs, Now Offering Curbside Pickup And Home Delivery), (232027118, Jetta, 45534.7, 2019, 25998, CarMax Gaithersburg, Now Offering Curbside Pickup), (231960124, Golf, 7227.628, 2020, 25998, CarMax Fort Bend, Now Offering Curbside Pickup And Home Delivery), (230450210, Tiguan, 25615.28, 2017, 21998, CarMax Miami Lakes, Now Offering Curbside Pickup And Home Delivery), (230651920, Jetta, 66599.728, 2019, 22998, CarMax West Sahara, Now Offering Curbside Pickup And Home Delivery), (232670338, Atlas, 80781.454, 2018, 35998, CarMax Fremont, Now Open), (232644027, Atlas Cross Sport, 31336.884, 2020, 37998, CarMax Independence Boulevard, Now Offering Curbside Pickup And Home Delivery), (230904851, Passat, 83201.39, 2017, 17998, CarMax Ft. Lauderdale, Now Offering Curbside Pickup And Home Delivery), (231345193, Atlas, 19768.174, 2020, 44998, CarMax Frederick, Now Offering Curbside Pickup), (232349277, Tiguan, 47579.739, 2018, 32998, CarMax Gastonia, Now Offering Curbside Pickup And Home Delivery), (232776052, Tiguan, 104420.882, 2014, 19998, CarMax Murrieta, Now Offering Curbside Pickup And Home Delivery), (232289104, Jetta, 125635.547, 2016, 17998, CarMax Manchester, Now Offering Curbside Pickup), (230419192, Jetta, 29399.648, 2017, 22998, CarMax Glencoe (Edens Expy), Now Offering Curbside Pickup), (232489416, Beetle, 82923.033, 2013, 20998, CarMax El Paso, Now Offering Curbside Pickup), (232848639, Passat, 55410.742, 2018, 21998, CarMax Newark, Now Offering Curbside Pickup), (232850566, Jetta, 10392.531, 2021, 25998, CarMax Turnersville, Now Offering Curbside Pickup), (232778839, Tiguan, 91762.879, 2018, 20998, CarMax Sanford, Now Offering Curbside Pickup And Home Delivery), (232106560, Jetta, 112341.989, 2019, 19998, CarMax Gulf Freeway, Now Offering Curbside Pickup And Home Delivery), (232028696, Arteon, 11444.817, 2021, 44998, CarMax St. Louis Mid Rivers Mall, Now Offering Curbside Pickup), (232652409, Tiguan, 49549.155, 2019, 27998, CarMax Jacksonville, Now Offering Curbside Pickup And Home Delivery), (232849477, Jetta, 25948.343, 2019, 19998, CarMax Colorado Springs, Now Offering Curbside Pickup And Home Delivery), (232027118, Jetta, 45534.7, 2019, 25998, CarMax Gaithersburg, Now Offering Curbside Pickup), (231960124, Golf, 7227.628, 2020, 25998, CarMax Fort Bend, Now Offering Curbside Pickup And Home Delivery), (230450210, Tiguan, 25615.28, 2017, 21998, CarMax Miami Lakes, Now Offering Curbside Pickup And Home Delivery), (230651920, Jetta, 66599.728, 2019, 22998, CarMax West Sahara, Now Offering Curbside Pickup And Home Delivery), (232670338, Atlas, 80781.454, 2018, 35998, CarMax Fremont, Now Open), (232644027, Atlas Cross Sport, 31336.884, 2020, 37998, CarMax Independence Boulevard, Now Offering Curbside Pickup And Home Delivery), (230904851, Passat, 83201.39, 2017, 17998, CarMax Ft. Lauderdale, Now Offering Curbside Pickup And Home Delivery), (231345193, Atlas, 19768.174, 2020, 44998, CarMax Frederick, Now Offering Curbside Pickup), (232349277, Tiguan, 47579.739, 2018, 32998, CarMax Gastonia, Now Offering Curbside Pickup And Home Delivery), (232776052, Tiguan, 104420.882, 2014, 19998, CarMax Murrieta, Now Offering Curbside Pickup And Home Delivery);'"
      ]
     },
     "execution_count": 100,
     "metadata": {},
     "output_type": "execute_result"
    }
   ],
   "source": [
    "insert_query"
   ]
  },
  {
   "cell_type": "markdown",
   "metadata": {},
   "source": [
    "**update in database**\n",
    "\n",
    "actualizar en base de datos"
   ]
  },
  {
   "cell_type": "code",
   "execution_count": 102,
   "metadata": {},
   "outputs": [],
   "source": [
    "my_cur.execute(insert_query)\n",
    "db.commit()"
   ]
  },
  {
   "cell_type": "markdown",
   "metadata": {},
   "source": [
    "---"
   ]
  }
 ],
 "metadata": {
  "kernelspec": {
   "display_name": "Python 3",
   "language": "python",
   "name": "python3"
  },
  "language_info": {
   "codemirror_mode": {
    "name": "ipython",
    "version": 3
   },
   "file_extension": ".py",
   "mimetype": "text/x-python",
   "name": "python",
   "nbconvert_exporter": "python",
   "pygments_lexer": "ipython3",
   "version": "3.9.4"
  }
 },
 "nbformat": 4,
 "nbformat_minor": 4
}
